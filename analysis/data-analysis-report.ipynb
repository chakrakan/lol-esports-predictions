{
 "cells": [
  {
   "cell_type": "markdown",
   "id": "8504f2cc",
   "metadata": {},
   "source": [
    "# Data Analysis Report\n",
    "\n",
    "We first start off by understanding the different data we are provided, and take a look into the bits and pieces that we will need from the data and give things a bit more structure.\n",
    "\n",
    "### Preface\n",
    "\n",
    "Starting off the project, we were given large JSON files and a Python script to download said large files and work with. So, I had to think about how I would manipulate the data in a manner that would save time and not incurr huge processing/memory penalties. \n",
    "\n",
    "The first step was to deal with random metadata and arbitrary information within these files and strip them off to make life easier.\n",
    "\n",
    "I would've done this in Python, but thankfully, the good folks at Riot gave us Athena Ready™ scripts that we can use to query (the significantly more) compressed data, directly from the S3 bucket without downloading files. \n",
    "\n",
    "So with the crawler setup and the tables loaded, I decided to sift through data within using SQL and AWS Athena explorer, and leveraged queries that reduced the data to the parts we are most interested in to create a methodology to generate team rankings.\n",
    "\n",
    "The reduced data could then be downloaded as CSVs and read into Data Science tools for ease of use.\n",
    "\n",
    "CSV is already quite good in terms of storage, but I've taken the liberty to convert certain large files from either JSON or CSV to [parquet](https://www.databricks.com/glossary/what-is-parquet) to save storage space."
   ]
  },
  {
   "cell_type": "markdown",
   "id": "71cbb8e7",
   "metadata": {},
   "source": [
    "## Leagues\n",
    "\n",
    "The following SQL statement gives us a new leagues file with some of the redundant columns like `displayPriority`, `sport`, `image` etc. dropped\n",
    "\n",
    "```sql\n",
    "SELECT id, name, slug, region, tournaments FROM \"lol\".\"leagues\"\n",
    "```\n",
    "\n",
    "All in all, it seems that we have tournament data for 38 leagues hosted across the world."
   ]
  },
  {
   "cell_type": "code",
   "execution_count": 188,
   "id": "26ad39cd",
   "metadata": {},
   "outputs": [],
   "source": [
    "%matplotlib inline\n",
    "import pandas as pd\n",
    "import matplotlib.pyplot as plt\n",
    "import seaborn as sns\n",
    "from scipy.stats import ttest_rel\n",
    "\n",
    "leagues_df = pd.read_csv(\"../esports-data/leagues.csv\")"
   ]
  },
  {
   "cell_type": "code",
   "execution_count": 2,
   "id": "86703033",
   "metadata": {},
   "outputs": [
    {
     "data": {
      "text/html": [
       "<div>\n",
       "<style scoped>\n",
       "    .dataframe tbody tr th:only-of-type {\n",
       "        vertical-align: middle;\n",
       "    }\n",
       "\n",
       "    .dataframe tbody tr th {\n",
       "        vertical-align: top;\n",
       "    }\n",
       "\n",
       "    .dataframe thead th {\n",
       "        text-align: right;\n",
       "    }\n",
       "</style>\n",
       "<table border=\"1\" class=\"dataframe\">\n",
       "  <thead>\n",
       "    <tr style=\"text-align: right;\">\n",
       "      <th></th>\n",
       "      <th>id</th>\n",
       "      <th>name</th>\n",
       "      <th>slug</th>\n",
       "      <th>region</th>\n",
       "      <th>tournaments</th>\n",
       "    </tr>\n",
       "  </thead>\n",
       "  <tbody>\n",
       "    <tr>\n",
       "      <th>0</th>\n",
       "      <td>98767991299243165</td>\n",
       "      <td>LCS</td>\n",
       "      <td>lcs</td>\n",
       "      <td>NORTH AMERICA</td>\n",
       "      <td>[{id=110303581083678395}, {id=1095170900666056...</td>\n",
       "    </tr>\n",
       "    <tr>\n",
       "      <th>1</th>\n",
       "      <td>109511549831443335</td>\n",
       "      <td>LCS Challengers</td>\n",
       "      <td>north_american_challenger_league</td>\n",
       "      <td>NORTH AMERICA</td>\n",
       "      <td>[{id=110574243270525539}, {id=1095186976607462...</td>\n",
       "    </tr>\n",
       "    <tr>\n",
       "      <th>2</th>\n",
       "      <td>109518549825754242</td>\n",
       "      <td>LCS Challengers Qualifiers</td>\n",
       "      <td>lcs_challengers_qualifiers</td>\n",
       "      <td>NORTH AMERICA</td>\n",
       "      <td>[{id=110894544221659776}, {id=1107338389351362...</td>\n",
       "    </tr>\n",
       "    <tr>\n",
       "      <th>3</th>\n",
       "      <td>107898214974993351</td>\n",
       "      <td>College Championship</td>\n",
       "      <td>college_championship</td>\n",
       "      <td>NORTH AMERICA</td>\n",
       "      <td>[{id=107898708099217418}]</td>\n",
       "    </tr>\n",
       "    <tr>\n",
       "      <th>4</th>\n",
       "      <td>98767991332355509</td>\n",
       "      <td>CBLOL</td>\n",
       "      <td>cblol-brazil</td>\n",
       "      <td>BRAZIL</td>\n",
       "      <td>[{id=110413046183015975}, {id=1095236414167506...</td>\n",
       "    </tr>\n",
       "  </tbody>\n",
       "</table>\n",
       "</div>"
      ],
      "text/plain": [
       "                   id                        name  \\\n",
       "0   98767991299243165                         LCS   \n",
       "1  109511549831443335             LCS Challengers   \n",
       "2  109518549825754242  LCS Challengers Qualifiers   \n",
       "3  107898214974993351        College Championship   \n",
       "4   98767991332355509                       CBLOL   \n",
       "\n",
       "                               slug         region  \\\n",
       "0                               lcs  NORTH AMERICA   \n",
       "1  north_american_challenger_league  NORTH AMERICA   \n",
       "2        lcs_challengers_qualifiers  NORTH AMERICA   \n",
       "3              college_championship  NORTH AMERICA   \n",
       "4                      cblol-brazil         BRAZIL   \n",
       "\n",
       "                                         tournaments  \n",
       "0  [{id=110303581083678395}, {id=1095170900666056...  \n",
       "1  [{id=110574243270525539}, {id=1095186976607462...  \n",
       "2  [{id=110894544221659776}, {id=1107338389351362...  \n",
       "3                          [{id=107898708099217418}]  \n",
       "4  [{id=110413046183015975}, {id=1095236414167506...  "
      ]
     },
     "execution_count": 2,
     "metadata": {},
     "output_type": "execute_result"
    }
   ],
   "source": [
    "leagues_df.head(5)"
   ]
  },
  {
   "cell_type": "code",
   "execution_count": 3,
   "id": "c3444001",
   "metadata": {},
   "outputs": [
    {
     "name": "stdout",
     "output_type": "stream",
     "text": [
      "<class 'pandas.core.frame.DataFrame'>\n",
      "RangeIndex: 38 entries, 0 to 37\n",
      "Data columns (total 5 columns):\n",
      " #   Column       Non-Null Count  Dtype \n",
      "---  ------       --------------  ----- \n",
      " 0   id           38 non-null     int64 \n",
      " 1   name         38 non-null     object\n",
      " 2   slug         38 non-null     object\n",
      " 3   region       38 non-null     object\n",
      " 4   tournaments  38 non-null     object\n",
      "dtypes: int64(1), object(4)\n",
      "memory usage: 1.6+ KB\n"
     ]
    }
   ],
   "source": [
    "leagues_df.info()"
   ]
  },
  {
   "cell_type": "markdown",
   "id": "f4428ae8",
   "metadata": {},
   "source": [
    "#### All available leagues"
   ]
  },
  {
   "cell_type": "code",
   "execution_count": 53,
   "id": "38c54504",
   "metadata": {},
   "outputs": [
    {
     "data": {
      "text/html": [
       "<div>\n",
       "<style scoped>\n",
       "    .dataframe tbody tr th:only-of-type {\n",
       "        vertical-align: middle;\n",
       "    }\n",
       "\n",
       "    .dataframe tbody tr th {\n",
       "        vertical-align: top;\n",
       "    }\n",
       "\n",
       "    .dataframe thead th {\n",
       "        text-align: right;\n",
       "    }\n",
       "</style>\n",
       "<table border=\"1\" class=\"dataframe\">\n",
       "  <thead>\n",
       "    <tr style=\"text-align: right;\">\n",
       "      <th></th>\n",
       "      <th>name</th>\n",
       "      <th>region</th>\n",
       "    </tr>\n",
       "  </thead>\n",
       "  <tbody>\n",
       "    <tr>\n",
       "      <th>0</th>\n",
       "      <td>LCS</td>\n",
       "      <td>NORTH AMERICA</td>\n",
       "    </tr>\n",
       "    <tr>\n",
       "      <th>1</th>\n",
       "      <td>LCS Challengers</td>\n",
       "      <td>NORTH AMERICA</td>\n",
       "    </tr>\n",
       "    <tr>\n",
       "      <th>2</th>\n",
       "      <td>LCS Challengers Qualifiers</td>\n",
       "      <td>NORTH AMERICA</td>\n",
       "    </tr>\n",
       "    <tr>\n",
       "      <th>3</th>\n",
       "      <td>College Championship</td>\n",
       "      <td>NORTH AMERICA</td>\n",
       "    </tr>\n",
       "    <tr>\n",
       "      <th>4</th>\n",
       "      <td>CBLOL</td>\n",
       "      <td>BRAZIL</td>\n",
       "    </tr>\n",
       "  </tbody>\n",
       "</table>\n",
       "</div>"
      ],
      "text/plain": [
       "                         name         region\n",
       "0                         LCS  NORTH AMERICA\n",
       "1             LCS Challengers  NORTH AMERICA\n",
       "2  LCS Challengers Qualifiers  NORTH AMERICA\n",
       "3        College Championship  NORTH AMERICA\n",
       "4                       CBLOL         BRAZIL"
      ]
     },
     "execution_count": 53,
     "metadata": {},
     "output_type": "execute_result"
    }
   ],
   "source": [
    "league_name_df = pd.DataFrame({\"name\": leagues_df.name, \"region\": leagues_df.region}, columns=[\"name\", \"region\"])\n",
    "league_name_df.head()"
   ]
  },
  {
   "cell_type": "markdown",
   "id": "2f72a6ed",
   "metadata": {},
   "source": [
    "## Players & Teams\n",
    "\n",
    "Looking into the players and teams data we notice that the players file has a `home_team_id` field for the player, while the teams data comes with `team_id` which this directly maps to."
   ]
  },
  {
   "cell_type": "markdown",
   "id": "c4e1a629",
   "metadata": {},
   "source": [
    "### Problem 1: Improving and aggregating data\n",
    "\n",
    "Originally the data was scattered, with `teams.json` and `players.json` being separate files."
   ]
  },
  {
   "cell_type": "markdown",
   "id": "373e29c9",
   "metadata": {},
   "source": [
    "The following query on Athena creates a mapping of every player to every team:\n",
    "\n",
    "```sql\n",
    "select distinct team_id as \"teamId\", name, acronym, slug, player_id as \"playerId\", handle, first_name, last_name\n",
    "from lol.\"players\" join lol.\"teams\"\n",
    "on team_id = home_team_id\n",
    "```\n",
    "\n",
    "We are not omitting anything here since we might want to leverage all the data here to build out some kind of nice front-end to deliver the results (time permitting). This created a CSV file which I downloaded and then converted to `parquet` for a smaller file footprint.\n",
    "\n",
    "Obviously this mapped every player to a team, and that gives me 2618 entries. Not good, but we can handle everything else within pandas since Athena has given us everything we need to split things up!"
   ]
  },
  {
   "cell_type": "code",
   "execution_count": 13,
   "id": "8fe4c066",
   "metadata": {
    "scrolled": true
   },
   "outputs": [
    {
     "name": "stdout",
     "output_type": "stream",
     "text": [
      "<class 'pandas.core.frame.DataFrame'>\n",
      "RangeIndex: 2618 entries, 0 to 2617\n",
      "Data columns (total 8 columns):\n",
      " #   Column      Non-Null Count  Dtype \n",
      "---  ------      --------------  ----- \n",
      " 0   team_id     2618 non-null   int64 \n",
      " 1   name        2618 non-null   object\n",
      " 2   acronym     2618 non-null   object\n",
      " 3   slug        2618 non-null   object\n",
      " 4   player_id   2618 non-null   int64 \n",
      " 5   handle      2618 non-null   object\n",
      " 6   first_name  2618 non-null   object\n",
      " 7   last_name   2618 non-null   object\n",
      "dtypes: int64(2), object(6)\n",
      "memory usage: 163.8+ KB\n"
     ]
    }
   ],
   "source": [
    "teams_and_players_df = pd.read_parquet(\"../esports-data/distinct_team_player_mapping.parquet\")\n",
    "teams_and_players_df.info()"
   ]
  },
  {
   "cell_type": "code",
   "execution_count": 14,
   "id": "12c7730b",
   "metadata": {},
   "outputs": [
    {
     "name": "stdout",
     "output_type": "stream",
     "text": [
      "Number of teams total:  501\n"
     ]
    },
    {
     "data": {
      "text/html": [
       "<div>\n",
       "<style scoped>\n",
       "    .dataframe tbody tr th:only-of-type {\n",
       "        vertical-align: middle;\n",
       "    }\n",
       "\n",
       "    .dataframe tbody tr th {\n",
       "        vertical-align: top;\n",
       "    }\n",
       "\n",
       "    .dataframe thead th {\n",
       "        text-align: right;\n",
       "    }\n",
       "</style>\n",
       "<table border=\"1\" class=\"dataframe\">\n",
       "  <thead>\n",
       "    <tr style=\"text-align: right;\">\n",
       "      <th></th>\n",
       "      <th>team_id</th>\n",
       "      <th>name</th>\n",
       "      <th>acronym</th>\n",
       "      <th>slug</th>\n",
       "      <th>player_id</th>\n",
       "      <th>handle</th>\n",
       "      <th>first_name</th>\n",
       "      <th>last_name</th>\n",
       "    </tr>\n",
       "  </thead>\n",
       "  <tbody>\n",
       "    <tr>\n",
       "      <th>0</th>\n",
       "      <td>105505619546859895</td>\n",
       "      <td>OKSavingsBank BRION</td>\n",
       "      <td>BRO</td>\n",
       "      <td>fredit-brion</td>\n",
       "      <td>99566404525897139</td>\n",
       "      <td>UmTi</td>\n",
       "      <td>Sunghyeon</td>\n",
       "      <td>Um</td>\n",
       "    </tr>\n",
       "    <tr>\n",
       "      <th>1</th>\n",
       "      <td>106827823550343961</td>\n",
       "      <td>AXZ Academy</td>\n",
       "      <td>AXZ</td>\n",
       "      <td>axz-academy</td>\n",
       "      <td>110536783764146522</td>\n",
       "      <td>kentakki</td>\n",
       "      <td>Kenta</td>\n",
       "      <td>Saito</td>\n",
       "    </tr>\n",
       "    <tr>\n",
       "      <th>2</th>\n",
       "      <td>98767991949608898</td>\n",
       "      <td>Fenerbahçe Espor</td>\n",
       "      <td>FB</td>\n",
       "      <td>fenerbahce-espor</td>\n",
       "      <td>99566404559755136</td>\n",
       "      <td>SeongHwan</td>\n",
       "      <td>Yun</td>\n",
       "      <td>Seong Hwan</td>\n",
       "    </tr>\n",
       "    <tr>\n",
       "      <th>3</th>\n",
       "      <td>109642680932009857</td>\n",
       "      <td>Nord Esports</td>\n",
       "      <td>NORD</td>\n",
       "      <td>nord-esports</td>\n",
       "      <td>110428375437150775</td>\n",
       "      <td>Hid0</td>\n",
       "      <td>Gian Miguel</td>\n",
       "      <td>Caruana</td>\n",
       "    </tr>\n",
       "    <tr>\n",
       "      <th>4</th>\n",
       "      <td>110534712174898632</td>\n",
       "      <td>Blue Otter</td>\n",
       "      <td>BOL</td>\n",
       "      <td>blue-otter</td>\n",
       "      <td>109800032657915058</td>\n",
       "      <td>Zev</td>\n",
       "      <td>Mark</td>\n",
       "      <td>Villaneuva</td>\n",
       "    </tr>\n",
       "  </tbody>\n",
       "</table>\n",
       "</div>"
      ],
      "text/plain": [
       "              team_id                 name acronym              slug  \\\n",
       "0  105505619546859895  OKSavingsBank BRION     BRO      fredit-brion   \n",
       "1  106827823550343961          AXZ Academy     AXZ       axz-academy   \n",
       "2   98767991949608898     Fenerbahçe Espor      FB  fenerbahce-espor   \n",
       "3  109642680932009857         Nord Esports    NORD      nord-esports   \n",
       "4  110534712174898632           Blue Otter     BOL        blue-otter   \n",
       "\n",
       "            player_id     handle   first_name   last_name  \n",
       "0   99566404525897139       UmTi    Sunghyeon          Um  \n",
       "1  110536783764146522   kentakki        Kenta       Saito  \n",
       "2   99566404559755136  SeongHwan          Yun  Seong Hwan  \n",
       "3  110428375437150775       Hid0  Gian Miguel     Caruana  \n",
       "4  109800032657915058        Zev         Mark  Villaneuva  "
      ]
     },
     "execution_count": 14,
     "metadata": {},
     "output_type": "execute_result"
    }
   ],
   "source": [
    "print(\"Number of teams total: \", len(teams_and_players_df.name.unique()))\n",
    "teams_and_players_df.head(5)"
   ]
  },
  {
   "cell_type": "markdown",
   "id": "d6829ef0",
   "metadata": {},
   "source": [
    "An immediate problem is posed since these aren't just mappings of the starting roster for the team to players, but also include subs and other members. For instance, Nukeduck is now a coach for 100T who was a former sub as a midlaner and is not part of the active roster in \"playing\" terms. \n",
    "\n",
    "So we need to keep this in mind before we proceed further and may have to leverage mapping data as source of truth for exact player information for those who \"played\" in the game vs players who are subs and coaches, if we are to extract game events for particular players to create a rating for the players themselves."
   ]
  },
  {
   "cell_type": "code",
   "execution_count": 15,
   "id": "a7e1a184",
   "metadata": {
    "scrolled": true
   },
   "outputs": [
    {
     "name": "stdout",
     "output_type": "stream",
     "text": [
      "Number of teams with more than 5 players:  230\n"
     ]
    },
    {
     "data": {
      "text/html": [
       "<div>\n",
       "<style scoped>\n",
       "    .dataframe tbody tr th:only-of-type {\n",
       "        vertical-align: middle;\n",
       "    }\n",
       "\n",
       "    .dataframe tbody tr th {\n",
       "        vertical-align: top;\n",
       "    }\n",
       "\n",
       "    .dataframe thead th {\n",
       "        text-align: right;\n",
       "    }\n",
       "</style>\n",
       "<table border=\"1\" class=\"dataframe\">\n",
       "  <thead>\n",
       "    <tr style=\"text-align: right;\">\n",
       "      <th></th>\n",
       "      <th>team_id</th>\n",
       "      <th>name</th>\n",
       "      <th>acronym</th>\n",
       "      <th>slug</th>\n",
       "      <th>player_id</th>\n",
       "      <th>handle</th>\n",
       "      <th>first_name</th>\n",
       "      <th>last_name</th>\n",
       "    </tr>\n",
       "  </thead>\n",
       "  <tbody>\n",
       "    <tr>\n",
       "      <th>1325</th>\n",
       "      <td>99294153828264740</td>\n",
       "      <td>100 Thieves</td>\n",
       "      <td>100</td>\n",
       "      <td>100-thieves</td>\n",
       "      <td>98926509785257793</td>\n",
       "      <td>Ssumday</td>\n",
       "      <td>Chanho</td>\n",
       "      <td>Kim</td>\n",
       "    </tr>\n",
       "    <tr>\n",
       "      <th>59</th>\n",
       "      <td>99294153828264740</td>\n",
       "      <td>100 Thieves</td>\n",
       "      <td>100</td>\n",
       "      <td>100-thieves</td>\n",
       "      <td>99603798169593745</td>\n",
       "      <td>Closer</td>\n",
       "      <td>Can</td>\n",
       "      <td>Çelik</td>\n",
       "    </tr>\n",
       "    <tr>\n",
       "      <th>715</th>\n",
       "      <td>99294153828264740</td>\n",
       "      <td>100 Thieves</td>\n",
       "      <td>100</td>\n",
       "      <td>100-thieves</td>\n",
       "      <td>99322214616775017</td>\n",
       "      <td>Nukeduck</td>\n",
       "      <td>Erlend</td>\n",
       "      <td>Holm</td>\n",
       "    </tr>\n",
       "    <tr>\n",
       "      <th>2268</th>\n",
       "      <td>99294153828264740</td>\n",
       "      <td>100 Thieves</td>\n",
       "      <td>100</td>\n",
       "      <td>100-thieves</td>\n",
       "      <td>107569568015156338</td>\n",
       "      <td>Sniper</td>\n",
       "      <td>Rayan</td>\n",
       "      <td>Shoura</td>\n",
       "    </tr>\n",
       "    <tr>\n",
       "      <th>750</th>\n",
       "      <td>99294153828264740</td>\n",
       "      <td>100 Thieves</td>\n",
       "      <td>100</td>\n",
       "      <td>100-thieves</td>\n",
       "      <td>98767991769705572</td>\n",
       "      <td>Doublelift</td>\n",
       "      <td>Yiliang</td>\n",
       "      <td>Peng</td>\n",
       "    </tr>\n",
       "    <tr>\n",
       "      <th>451</th>\n",
       "      <td>99294153828264740</td>\n",
       "      <td>100 Thieves</td>\n",
       "      <td>100</td>\n",
       "      <td>100-thieves</td>\n",
       "      <td>107492071007218117</td>\n",
       "      <td>Quid</td>\n",
       "      <td>HYEONSEUNG</td>\n",
       "      <td>Lim</td>\n",
       "    </tr>\n",
       "    <tr>\n",
       "      <th>832</th>\n",
       "      <td>99294153828264740</td>\n",
       "      <td>100 Thieves</td>\n",
       "      <td>100</td>\n",
       "      <td>100-thieves</td>\n",
       "      <td>106625308523122120</td>\n",
       "      <td>Busio</td>\n",
       "      <td>Alan</td>\n",
       "      <td>Cwalina</td>\n",
       "    </tr>\n",
       "    <tr>\n",
       "      <th>2398</th>\n",
       "      <td>99294153828264740</td>\n",
       "      <td>100 Thieves</td>\n",
       "      <td>100</td>\n",
       "      <td>100-thieves</td>\n",
       "      <td>104559243245199489</td>\n",
       "      <td>Tenacity</td>\n",
       "      <td>Milan</td>\n",
       "      <td>Oleksij</td>\n",
       "    </tr>\n",
       "    <tr>\n",
       "      <th>738</th>\n",
       "      <td>109696138543579708</td>\n",
       "      <td>3BL Esports</td>\n",
       "      <td>3BL</td>\n",
       "      <td>ebl-esports</td>\n",
       "      <td>99682959194260565</td>\n",
       "      <td>Chosen</td>\n",
       "      <td>Yunus</td>\n",
       "      <td>Baş</td>\n",
       "    </tr>\n",
       "    <tr>\n",
       "      <th>2292</th>\n",
       "      <td>109696138543579708</td>\n",
       "      <td>3BL Esports</td>\n",
       "      <td>3BL</td>\n",
       "      <td>ebl-esports</td>\n",
       "      <td>109721399266584404</td>\n",
       "      <td>Meza</td>\n",
       "      <td>Hamza</td>\n",
       "      <td>El Barqoqi</td>\n",
       "    </tr>\n",
       "    <tr>\n",
       "      <th>2209</th>\n",
       "      <td>109696138543579708</td>\n",
       "      <td>3BL Esports</td>\n",
       "      <td>3BL</td>\n",
       "      <td>ebl-esports</td>\n",
       "      <td>107693449042236648</td>\n",
       "      <td>AKLASS</td>\n",
       "      <td>Eid</td>\n",
       "      <td>Alazmi</td>\n",
       "    </tr>\n",
       "    <tr>\n",
       "      <th>2505</th>\n",
       "      <td>109696138543579708</td>\n",
       "      <td>3BL Esports</td>\n",
       "      <td>3BL</td>\n",
       "      <td>ebl-esports</td>\n",
       "      <td>107605563375804641</td>\n",
       "      <td>Biskoo</td>\n",
       "      <td>Youssef</td>\n",
       "      <td>Hassan</td>\n",
       "    </tr>\n",
       "    <tr>\n",
       "      <th>1466</th>\n",
       "      <td>109696138543579708</td>\n",
       "      <td>3BL Esports</td>\n",
       "      <td>3BL</td>\n",
       "      <td>ebl-esports</td>\n",
       "      <td>109721326675273949</td>\n",
       "      <td>Sivvy</td>\n",
       "      <td>Fady</td>\n",
       "      <td>Ibrahim</td>\n",
       "    </tr>\n",
       "    <tr>\n",
       "      <th>735</th>\n",
       "      <td>109696138543579708</td>\n",
       "      <td>3BL Esports</td>\n",
       "      <td>3BL</td>\n",
       "      <td>ebl-esports</td>\n",
       "      <td>110489865842850893</td>\n",
       "      <td>Nawaf</td>\n",
       "      <td>Nawaf</td>\n",
       "      <td>Suwayilh</td>\n",
       "    </tr>\n",
       "    <tr>\n",
       "      <th>640</th>\n",
       "      <td>109696138543579708</td>\n",
       "      <td>3BL Esports</td>\n",
       "      <td>3BL</td>\n",
       "      <td>ebl-esports</td>\n",
       "      <td>109696740646737263</td>\n",
       "      <td>DaMa</td>\n",
       "      <td>Hussein</td>\n",
       "      <td>Hussein</td>\n",
       "    </tr>\n",
       "  </tbody>\n",
       "</table>\n",
       "</div>"
      ],
      "text/plain": [
       "                 team_id         name acronym         slug  \\\n",
       "1325   99294153828264740  100 Thieves     100  100-thieves   \n",
       "59     99294153828264740  100 Thieves     100  100-thieves   \n",
       "715    99294153828264740  100 Thieves     100  100-thieves   \n",
       "2268   99294153828264740  100 Thieves     100  100-thieves   \n",
       "750    99294153828264740  100 Thieves     100  100-thieves   \n",
       "451    99294153828264740  100 Thieves     100  100-thieves   \n",
       "832    99294153828264740  100 Thieves     100  100-thieves   \n",
       "2398   99294153828264740  100 Thieves     100  100-thieves   \n",
       "738   109696138543579708  3BL Esports     3BL  ebl-esports   \n",
       "2292  109696138543579708  3BL Esports     3BL  ebl-esports   \n",
       "2209  109696138543579708  3BL Esports     3BL  ebl-esports   \n",
       "2505  109696138543579708  3BL Esports     3BL  ebl-esports   \n",
       "1466  109696138543579708  3BL Esports     3BL  ebl-esports   \n",
       "735   109696138543579708  3BL Esports     3BL  ebl-esports   \n",
       "640   109696138543579708  3BL Esports     3BL  ebl-esports   \n",
       "\n",
       "               player_id      handle  first_name   last_name  \n",
       "1325   98926509785257793     Ssumday      Chanho         Kim  \n",
       "59     99603798169593745      Closer         Can       Çelik  \n",
       "715    99322214616775017    Nukeduck      Erlend        Holm  \n",
       "2268  107569568015156338      Sniper       Rayan      Shoura  \n",
       "750    98767991769705572  Doublelift     Yiliang        Peng  \n",
       "451   107492071007218117        Quid  HYEONSEUNG         Lim  \n",
       "832   106625308523122120       Busio        Alan     Cwalina  \n",
       "2398  104559243245199489    Tenacity       Milan     Oleksij  \n",
       "738    99682959194260565      Chosen       Yunus         Baş  \n",
       "2292  109721399266584404        Meza       Hamza  El Barqoqi  \n",
       "2209  107693449042236648      AKLASS         Eid      Alazmi  \n",
       "2505  107605563375804641      Biskoo     Youssef      Hassan  \n",
       "1466  109721326675273949       Sivvy        Fady     Ibrahim  \n",
       "735   110489865842850893       Nawaf       Nawaf    Suwayilh  \n",
       "640   109696740646737263        DaMa     Hussein     Hussein  "
      ]
     },
     "execution_count": 15,
     "metadata": {},
     "output_type": "execute_result"
    }
   ],
   "source": [
    "teams_with_more_than_5_players = teams_and_players_df.groupby('team_id').filter(lambda x: len(x) > 5)\n",
    "print(\"Number of teams with more than 5 players: \", len(teams_with_more_than_5_players.name.unique()))\n",
    "teams_with_more_than_5_players.sort_values(by=['name']).head(15)"
   ]
  },
  {
   "cell_type": "markdown",
   "id": "fc094ac6",
   "metadata": {},
   "source": [
    "But we are getting ahead of ourselves, let's first just do our due dilligence with the data to check for missing/duplicate values. We know that team_id will be duplicated due to the way the data is joined for each player. However, we really shouldn't be running into duplicate player values so let's check for that..."
   ]
  },
  {
   "cell_type": "code",
   "execution_count": 58,
   "id": "03c7f575",
   "metadata": {},
   "outputs": [
    {
     "data": {
      "text/html": [
       "<div>\n",
       "<style scoped>\n",
       "    .dataframe tbody tr th:only-of-type {\n",
       "        vertical-align: middle;\n",
       "    }\n",
       "\n",
       "    .dataframe tbody tr th {\n",
       "        vertical-align: top;\n",
       "    }\n",
       "\n",
       "    .dataframe thead th {\n",
       "        text-align: right;\n",
       "    }\n",
       "</style>\n",
       "<table border=\"1\" class=\"dataframe\">\n",
       "  <thead>\n",
       "    <tr style=\"text-align: right;\">\n",
       "      <th></th>\n",
       "      <th>team_id</th>\n",
       "      <th>name</th>\n",
       "      <th>acronym</th>\n",
       "      <th>slug</th>\n",
       "      <th>player_id</th>\n",
       "      <th>handle</th>\n",
       "      <th>first_name</th>\n",
       "      <th>last_name</th>\n",
       "    </tr>\n",
       "  </thead>\n",
       "  <tbody>\n",
       "    <tr>\n",
       "      <th>357</th>\n",
       "      <td>101383793572656373</td>\n",
       "      <td>EXCEL</td>\n",
       "      <td>XL</td>\n",
       "      <td>excel</td>\n",
       "      <td>100174547541438669</td>\n",
       "      <td>Abbedagge</td>\n",
       "      <td>Felix2</td>\n",
       "      <td>Braun</td>\n",
       "    </tr>\n",
       "    <tr>\n",
       "      <th>2213</th>\n",
       "      <td>101383793572656373</td>\n",
       "      <td>EXCEL</td>\n",
       "      <td>XL</td>\n",
       "      <td>excel</td>\n",
       "      <td>100174547541438669</td>\n",
       "      <td>Abbedagge</td>\n",
       "      <td>Felix</td>\n",
       "      <td>Braun</td>\n",
       "    </tr>\n",
       "  </tbody>\n",
       "</table>\n",
       "</div>"
      ],
      "text/plain": [
       "                 team_id   name acronym   slug           player_id     handle  \\\n",
       "357   101383793572656373  EXCEL      XL  excel  100174547541438669  Abbedagge   \n",
       "2213  101383793572656373  EXCEL      XL  excel  100174547541438669  Abbedagge   \n",
       "\n",
       "     first_name last_name  \n",
       "357      Felix2     Braun  \n",
       "2213      Felix     Braun  "
      ]
     },
     "execution_count": 58,
     "metadata": {},
     "output_type": "execute_result"
    }
   ],
   "source": [
    "duplicate_players = teams_and_players_df[teams_and_players_df[\"player_id\"].duplicated(keep=False)].sort_values(\"player_id\")\n",
    "duplicate_players"
   ]
  },
  {
   "cell_type": "markdown",
   "id": "728b2efb",
   "metadata": {},
   "source": [
    "We will get rid of the Abbedagge with the `Felix2` value since that's erroneous. Let's remove it and save a new copy of the cleaned data."
   ]
  },
  {
   "cell_type": "code",
   "execution_count": 110,
   "id": "b0f8d8fb",
   "metadata": {},
   "outputs": [],
   "source": [
    "# remove 'Felix2'\n",
    "team_player_mapping_cleaned = teams_and_players_df.drop(\n",
    "    teams_and_players_df[(teams_and_players_df['handle'] == 'Abbedagge') & \n",
    "                        (teams_and_players_df['first_name'] == 'Felix2')].index)\n",
    "\n",
    "# test\n",
    "duplicate_players = team_player_mapping_cleaned[team_player_mapping_cleaned[\"player_id\"].duplicated(keep=False)].sort_values(\"player_id\")\n",
    "duplicate_players\n",
    "\n",
    "team_player_mapping_cleaned.rename(columns={'name': 'team_name'}, inplace=True)\n",
    "\n",
    "# save the cleaned data UNCOMMENT\n",
    "# cleaned_file_path = \"../esports-data/cleaned_distinct_team_player_mapping.parquet\"\n",
    "team_player_mapping_cleaned.to_parquet(cleaned_file_path, index=False)"
   ]
  },
  {
   "cell_type": "markdown",
   "id": "bdba7ba9",
   "metadata": {},
   "source": [
    "> From here on out, we should always be using cleaned_distinct_team_player_mapping.parquet or cleaned_distinct_team_player_mapping.csv "
   ]
  },
  {
   "cell_type": "markdown",
   "id": "a5242eb8",
   "metadata": {},
   "source": [
    "***\n",
    "## Mapping Data\n",
    "\n",
    "Next, we need to look at the mapping data for the above since this is where things start to get interesting.\n",
    "\n",
    "Here's the SQL to gather the info on Athena:\n",
    "\n",
    "```sql\n",
    "SELECT DISTINCT esportsgameid as \"esports_game_id\", platformgameid as \"platform_game_id\", teammapping as \"team_mapping\", participantmapping as \"participant_mapping\" FROM \"lol\".\"mapping_data\";\n",
    "```\n",
    "\n",
    "For this data, I decided to convert the JSON provided to parquet for a size reduction from 16.2MB to ~900KB. "
   ]
  },
  {
   "cell_type": "code",
   "execution_count": 153,
   "id": "95b9f8eb",
   "metadata": {},
   "outputs": [],
   "source": [
    "mapping_df = pd.read_parquet(\"../esports-data/mapping_data.parquet\")"
   ]
  },
  {
   "cell_type": "code",
   "execution_count": 154,
   "id": "6408aac8",
   "metadata": {},
   "outputs": [
    {
     "data": {
      "text/html": [
       "<div>\n",
       "<style scoped>\n",
       "    .dataframe tbody tr th:only-of-type {\n",
       "        vertical-align: middle;\n",
       "    }\n",
       "\n",
       "    .dataframe tbody tr th {\n",
       "        vertical-align: top;\n",
       "    }\n",
       "\n",
       "    .dataframe thead th {\n",
       "        text-align: right;\n",
       "    }\n",
       "</style>\n",
       "<table border=\"1\" class=\"dataframe\">\n",
       "  <thead>\n",
       "    <tr style=\"text-align: right;\">\n",
       "      <th></th>\n",
       "      <th>esportsGameId</th>\n",
       "      <th>platformGameId</th>\n",
       "      <th>teamMapping</th>\n",
       "      <th>participantMapping</th>\n",
       "    </tr>\n",
       "  </thead>\n",
       "  <tbody>\n",
       "    <tr>\n",
       "      <th>0</th>\n",
       "      <td>110378429158160384</td>\n",
       "      <td>ESPORTSTMNT01:3416295</td>\n",
       "      <td>{'100': '105550033967461806', '200': '10555002...</td>\n",
       "      <td>{'1': '108205130568869560', '10': '11073024065...</td>\n",
       "    </tr>\n",
       "    <tr>\n",
       "      <th>1</th>\n",
       "      <td>110471139171602608</td>\n",
       "      <td>ESPORTSTMNT02:3228341</td>\n",
       "      <td>{'100': '109485335453835911', '200': '10555000...</td>\n",
       "      <td>{'1': '103478281338008082', '10': '10539723866...</td>\n",
       "    </tr>\n",
       "    <tr>\n",
       "      <th>2</th>\n",
       "      <td>110535609417029696</td>\n",
       "      <td>ESPORTSTMNT04:2693199</td>\n",
       "      <td>{'100': '109696092218588987', '200': '10835230...</td>\n",
       "      <td>{'1': '109696535754261145', '10': '10756442829...</td>\n",
       "    </tr>\n",
       "    <tr>\n",
       "      <th>3</th>\n",
       "      <td>110847390580148352</td>\n",
       "      <td>ESPORTSTMNT01:3413275</td>\n",
       "      <td>{'100': '107700204561086446', '200': '99566406...</td>\n",
       "      <td>{'1': '99566406483827119', '10': '101383792831...</td>\n",
       "    </tr>\n",
       "    <tr>\n",
       "      <th>4</th>\n",
       "      <td>110413246204026224</td>\n",
       "      <td>ESPORTSTMNT01:3412587</td>\n",
       "      <td>{'100': '109485335453835911', '200': '10555000...</td>\n",
       "      <td>{'1': '103478281338008082', '10': '10374359384...</td>\n",
       "    </tr>\n",
       "  </tbody>\n",
       "</table>\n",
       "</div>"
      ],
      "text/plain": [
       "        esportsGameId         platformGameId  \\\n",
       "0  110378429158160384  ESPORTSTMNT01:3416295   \n",
       "1  110471139171602608  ESPORTSTMNT02:3228341   \n",
       "2  110535609417029696  ESPORTSTMNT04:2693199   \n",
       "3  110847390580148352  ESPORTSTMNT01:3413275   \n",
       "4  110413246204026224  ESPORTSTMNT01:3412587   \n",
       "\n",
       "                                         teamMapping  \\\n",
       "0  {'100': '105550033967461806', '200': '10555002...   \n",
       "1  {'100': '109485335453835911', '200': '10555000...   \n",
       "2  {'100': '109696092218588987', '200': '10835230...   \n",
       "3  {'100': '107700204561086446', '200': '99566406...   \n",
       "4  {'100': '109485335453835911', '200': '10555000...   \n",
       "\n",
       "                                  participantMapping  \n",
       "0  {'1': '108205130568869560', '10': '11073024065...  \n",
       "1  {'1': '103478281338008082', '10': '10539723866...  \n",
       "2  {'1': '109696535754261145', '10': '10756442829...  \n",
       "3  {'1': '99566406483827119', '10': '101383792831...  \n",
       "4  {'1': '103478281338008082', '10': '10374359384...  "
      ]
     },
     "execution_count": 154,
     "metadata": {},
     "output_type": "execute_result"
    }
   ],
   "source": [
    "mapping_df.head(5)"
   ]
  },
  {
   "cell_type": "code",
   "execution_count": 155,
   "id": "ee222014",
   "metadata": {},
   "outputs": [
    {
     "name": "stdout",
     "output_type": "stream",
     "text": [
      "<class 'pandas.core.frame.DataFrame'>\n",
      "RangeIndex: 25283 entries, 0 to 25282\n",
      "Data columns (total 4 columns):\n",
      " #   Column              Non-Null Count  Dtype \n",
      "---  ------              --------------  ----- \n",
      " 0   esportsGameId       25283 non-null  int64 \n",
      " 1   platformGameId      25283 non-null  object\n",
      " 2   teamMapping         25283 non-null  object\n",
      " 3   participantMapping  25283 non-null  object\n",
      "dtypes: int64(1), object(3)\n",
      "memory usage: 790.2+ KB\n"
     ]
    }
   ],
   "source": [
    "mapping_df.info()"
   ]
  },
  {
   "cell_type": "markdown",
   "id": "2cfa7afa",
   "metadata": {},
   "source": [
    "### Problem 1: Cleaning data\n",
    "\n",
    "There's about 25,283 games, but there are a few key things we already want to start doing with this mapping data that maps to the `game` with respect to the teams.\n",
    "\n",
    "First, we want to be able to identity games where information is complete. Our ML model would need as much data as possible and ensuring that we don't run into missing information is key to training and validating the model.\n",
    "\n",
    "For starters, we want to turn those nested objects into a flatter structure such that we can start analyzing how much missing data we actually have, and how much of that can we fill"
   ]
  },
  {
   "cell_type": "code",
   "execution_count": 20,
   "id": "0c1c4b0b",
   "metadata": {},
   "outputs": [
    {
     "data": {
      "text/html": [
       "<div>\n",
       "<style scoped>\n",
       "    .dataframe tbody tr th:only-of-type {\n",
       "        vertical-align: middle;\n",
       "    }\n",
       "\n",
       "    .dataframe tbody tr th {\n",
       "        vertical-align: top;\n",
       "    }\n",
       "\n",
       "    .dataframe thead th {\n",
       "        text-align: right;\n",
       "    }\n",
       "</style>\n",
       "<table border=\"1\" class=\"dataframe\">\n",
       "  <thead>\n",
       "    <tr style=\"text-align: right;\">\n",
       "      <th></th>\n",
       "      <th>esportsGameId</th>\n",
       "      <th>platformGameId</th>\n",
       "      <th>100</th>\n",
       "      <th>200</th>\n",
       "      <th>participant_1</th>\n",
       "      <th>participant_10</th>\n",
       "      <th>participant_2</th>\n",
       "      <th>participant_3</th>\n",
       "      <th>participant_4</th>\n",
       "      <th>participant_5</th>\n",
       "      <th>participant_6</th>\n",
       "      <th>participant_7</th>\n",
       "      <th>participant_8</th>\n",
       "      <th>participant_9</th>\n",
       "    </tr>\n",
       "  </thead>\n",
       "  <tbody>\n",
       "    <tr>\n",
       "      <th>0</th>\n",
       "      <td>110378429158160384</td>\n",
       "      <td>ESPORTSTMNT01:3416295</td>\n",
       "      <td>105550033967461806</td>\n",
       "      <td>105550026570060790</td>\n",
       "      <td>108205130568869560</td>\n",
       "      <td>110730240651882119</td>\n",
       "      <td>108366332471078988</td>\n",
       "      <td>107492116585043595</td>\n",
       "      <td>102483272156027229</td>\n",
       "      <td>105388980252039870</td>\n",
       "      <td>105501816646382923</td>\n",
       "      <td>106267599829820917</td>\n",
       "      <td>107492063150003806</td>\n",
       "      <td>106267600924403194</td>\n",
       "    </tr>\n",
       "    <tr>\n",
       "      <th>1</th>\n",
       "      <td>110471139171602608</td>\n",
       "      <td>ESPORTSTMNT02:3228341</td>\n",
       "      <td>109485335453835911</td>\n",
       "      <td>105550005698683818</td>\n",
       "      <td>103478281338008082</td>\n",
       "      <td>105397238669368241</td>\n",
       "      <td>103478281341350420</td>\n",
       "      <td>107560281476330464</td>\n",
       "      <td>101383793082615993</td>\n",
       "      <td>107559633217576287</td>\n",
       "      <td>105397207118950800</td>\n",
       "      <td>109519057410044019</td>\n",
       "      <td>103461966873003900</td>\n",
       "      <td>109519061710277829</td>\n",
       "    </tr>\n",
       "    <tr>\n",
       "      <th>2</th>\n",
       "      <td>110535609417029696</td>\n",
       "      <td>ESPORTSTMNT04:2693199</td>\n",
       "      <td>109696092218588987</td>\n",
       "      <td>108352305932141947</td>\n",
       "      <td>109696535754261145</td>\n",
       "      <td>107564428297402857</td>\n",
       "      <td>99566406317824602</td>\n",
       "      <td>105536902415377888</td>\n",
       "      <td>109696576870241602</td>\n",
       "      <td>109696579630268337</td>\n",
       "      <td>109705412728201213</td>\n",
       "      <td>105548731617719496</td>\n",
       "      <td>103963733877026827</td>\n",
       "      <td>105548605376090785</td>\n",
       "    </tr>\n",
       "    <tr>\n",
       "      <th>3</th>\n",
       "      <td>110847390580148352</td>\n",
       "      <td>ESPORTSTMNT01:3413275</td>\n",
       "      <td>107700204561086446</td>\n",
       "      <td>99566406332987990</td>\n",
       "      <td>99566406483827119</td>\n",
       "      <td>101383792831678607</td>\n",
       "      <td>99566406443271739</td>\n",
       "      <td>98767991808793901</td>\n",
       "      <td>107705431471339985</td>\n",
       "      <td>109642948838393879</td>\n",
       "      <td>100160799381721105</td>\n",
       "      <td>104668539132702977</td>\n",
       "      <td>105709404500072628</td>\n",
       "      <td>99566406296347493</td>\n",
       "    </tr>\n",
       "    <tr>\n",
       "      <th>4</th>\n",
       "      <td>110413246204026224</td>\n",
       "      <td>ESPORTSTMNT01:3412587</td>\n",
       "      <td>109485335453835911</td>\n",
       "      <td>105550001032913831</td>\n",
       "      <td>103478281338008082</td>\n",
       "      <td>103743593842085398</td>\n",
       "      <td>103478281341350420</td>\n",
       "      <td>107560281476330464</td>\n",
       "      <td>101383793082615993</td>\n",
       "      <td>107559633217576287</td>\n",
       "      <td>107559597273805278</td>\n",
       "      <td>110434822594728434</td>\n",
       "      <td>103980682928812378</td>\n",
       "      <td>108395451349202875</td>\n",
       "    </tr>\n",
       "  </tbody>\n",
       "</table>\n",
       "</div>"
      ],
      "text/plain": [
       "        esportsGameId         platformGameId                 100  \\\n",
       "0  110378429158160384  ESPORTSTMNT01:3416295  105550033967461806   \n",
       "1  110471139171602608  ESPORTSTMNT02:3228341  109485335453835911   \n",
       "2  110535609417029696  ESPORTSTMNT04:2693199  109696092218588987   \n",
       "3  110847390580148352  ESPORTSTMNT01:3413275  107700204561086446   \n",
       "4  110413246204026224  ESPORTSTMNT01:3412587  109485335453835911   \n",
       "\n",
       "                  200       participant_1      participant_10  \\\n",
       "0  105550026570060790  108205130568869560  110730240651882119   \n",
       "1  105550005698683818  103478281338008082  105397238669368241   \n",
       "2  108352305932141947  109696535754261145  107564428297402857   \n",
       "3   99566406332987990   99566406483827119  101383792831678607   \n",
       "4  105550001032913831  103478281338008082  103743593842085398   \n",
       "\n",
       "        participant_2       participant_3       participant_4  \\\n",
       "0  108366332471078988  107492116585043595  102483272156027229   \n",
       "1  103478281341350420  107560281476330464  101383793082615993   \n",
       "2   99566406317824602  105536902415377888  109696576870241602   \n",
       "3   99566406443271739   98767991808793901  107705431471339985   \n",
       "4  103478281341350420  107560281476330464  101383793082615993   \n",
       "\n",
       "        participant_5       participant_6       participant_7  \\\n",
       "0  105388980252039870  105501816646382923  106267599829820917   \n",
       "1  107559633217576287  105397207118950800  109519057410044019   \n",
       "2  109696579630268337  109705412728201213  105548731617719496   \n",
       "3  109642948838393879  100160799381721105  104668539132702977   \n",
       "4  107559633217576287  107559597273805278  110434822594728434   \n",
       "\n",
       "        participant_8       participant_9  \n",
       "0  107492063150003806  106267600924403194  \n",
       "1  103461966873003900  109519061710277829  \n",
       "2  103963733877026827  105548605376090785  \n",
       "3  105709404500072628   99566406296347493  \n",
       "4  103980682928812378  108395451349202875  "
      ]
     },
     "execution_count": 20,
     "metadata": {},
     "output_type": "execute_result"
    }
   ],
   "source": [
    "# Flatten the 'teamMapping' and 'participantMapping' columns\n",
    "flattened_df = pd.concat([\n",
    "    mapping_df.drop(['teamMapping', 'participantMapping'], axis=1),\n",
    "    mapping_df['teamMapping'].apply(pd.Series),\n",
    "    mapping_df['participantMapping'].apply(pd.Series).add_prefix('participant_')\n",
    "], axis=1)\n",
    "\n",
    "flattened_df.head()"
   ]
  },
  {
   "cell_type": "markdown",
   "id": "e1179f01",
   "metadata": {},
   "source": [
    "Now we can check for the missing values within this dataframe of flattened columns"
   ]
  },
  {
   "cell_type": "code",
   "execution_count": 21,
   "id": "16ccaa03",
   "metadata": {},
   "outputs": [
    {
     "data": {
      "text/plain": [
       "100                 17\n",
       "200                 19\n",
       "participant_1      951\n",
       "participant_10     990\n",
       "participant_2      987\n",
       "participant_3      935\n",
       "participant_4     1008\n",
       "participant_5      998\n",
       "participant_6      933\n",
       "participant_7      983\n",
       "participant_8      935\n",
       "participant_9     1008\n",
       "dtype: int64"
      ]
     },
     "execution_count": 21,
     "metadata": {},
     "output_type": "execute_result"
    }
   ],
   "source": [
    "# Check for missing values in the flattened DataFrame\n",
    "missing_values_df = flattened_df.isnull().sum()\n",
    "\n",
    "# Filter columns with missing values\n",
    "columns_with_missing_values = missing_values_df[missing_values_df > 0]\n",
    "\n",
    "columns_with_missing_values"
   ]
  },
  {
   "cell_type": "code",
   "execution_count": 22,
   "id": "5a056671",
   "metadata": {},
   "outputs": [
    {
     "data": {
      "text/plain": [
       "1569"
      ]
     },
     "execution_count": 22,
     "metadata": {},
     "output_type": "execute_result"
    }
   ],
   "source": [
    "# Count the number of rows with any missing values\n",
    "rows_with_missing_values = flattened_df.isnull().any(axis=1).sum()\n",
    "rows_with_missing_values"
   ]
  },
  {
   "cell_type": "markdown",
   "id": "02bbd3d5",
   "metadata": {},
   "source": [
    "For now, let's just filter out rows with missing values since we might need to do additional data gathering to figure out which players are subs, and which are part of the playing roster within games. Dropping 1569 games for the time being is not an issue, so let's create another file which will contain our newly created dataframe as a parquet file."
   ]
  },
  {
   "cell_type": "code",
   "execution_count": 33,
   "id": "f3becdc6",
   "metadata": {},
   "outputs": [
    {
     "data": {
      "text/plain": [
       "23714"
      ]
     },
     "execution_count": 33,
     "metadata": {},
     "output_type": "execute_result"
    }
   ],
   "source": [
    "# Filter out rows with any missing values\n",
    "filtered_df = flattened_df.dropna(subset=[\"100\", \"200\"] + [f\"participant_{i}\" for i in range(1, 11)])\n",
    "len(filtered_df)"
   ]
  },
  {
   "cell_type": "markdown",
   "id": "70e00fd7",
   "metadata": {},
   "source": [
    "Generating the filtered mapping data for our ease of use."
   ]
  },
  {
   "cell_type": "code",
   "execution_count": 34,
   "id": "b9e3eb0d",
   "metadata": {},
   "outputs": [
    {
     "data": {
      "text/plain": [
       "23714"
      ]
     },
     "execution_count": 34,
     "metadata": {},
     "output_type": "execute_result"
    }
   ],
   "source": [
    "# UNCOMMENT BELOW TO SAVE OUTPUT AND BACKUP\n",
    "# filtered_df.to_csv('../esports-data/filtered-mapping-data.csv', index=False)\n",
    "# test_filtered_df = pd.read_csv('../esports-data/filtered-mapping-data.csv')\n",
    "# len(test_filtered_df)"
   ]
  },
  {
   "cell_type": "markdown",
   "id": "03dc134e",
   "metadata": {},
   "source": [
    "> From here on, we should be using filtered-mapping-data.csv or filtered-mapping-data.parquet"
   ]
  },
  {
   "cell_type": "markdown",
   "id": "f53161f1",
   "metadata": {},
   "source": [
    "## Tournaments Mapping\n",
    "\n",
    "The tournaments mapping data is a bit convoluted since there's large nested objects within the `stages` column. We will need to break this down to see what's going on inside those objects...\n",
    "\n",
    "This JSON data was 91.1MB and parquet takes it down to ~1.1MB.\n",
    "\n",
    "Some caveats I've collected from various resource docs and discord answers (and questions to think about):\n",
    "- Riot is only providing esports mappings and game data for LPL Summer 2023\n",
    "    - Q: What methodology to use for determining rankings for past data where game data isn't available?\n",
    "    - Need to analyze older games (relative to data) first and create estimates for what are the win conditions for a team based on available data\n",
    "- Programs should be able to handle not finding an associated platform ID for a given esports ID\n",
    "- In tournaments file, for each esports match listed there is a team field with players - these are the players listed for a given team roster at the time that the game was mapped and will also include subs - this does not mean all those players have played in the match\n",
    "    - Need to check if player played in the game -> if role is none, it's a sub"
   ]
  },
  {
   "cell_type": "markdown",
   "id": "fb128a45",
   "metadata": {},
   "source": [
    "### Problem 1: Reading nested data\n",
    "\n",
    "For this, I wanted to get started on it since the instruction docs provided decent context on it already.\n",
    "I wanted to get started by first sorting all the data by the `startDate`, since that would give us the older the time-frame from when any team has started playing games. "
   ]
  },
  {
   "cell_type": "code",
   "execution_count": 38,
   "id": "08b7f379",
   "metadata": {},
   "outputs": [
    {
     "data": {
      "text/html": [
       "<div>\n",
       "<style scoped>\n",
       "    .dataframe tbody tr th:only-of-type {\n",
       "        vertical-align: middle;\n",
       "    }\n",
       "\n",
       "    .dataframe tbody tr th {\n",
       "        vertical-align: top;\n",
       "    }\n",
       "\n",
       "    .dataframe thead th {\n",
       "        text-align: right;\n",
       "    }\n",
       "</style>\n",
       "<table border=\"1\" class=\"dataframe\">\n",
       "  <thead>\n",
       "    <tr style=\"text-align: right;\">\n",
       "      <th></th>\n",
       "      <th>id</th>\n",
       "      <th>leagueId</th>\n",
       "      <th>name</th>\n",
       "      <th>slug</th>\n",
       "      <th>sport</th>\n",
       "      <th>startDate</th>\n",
       "      <th>endDate</th>\n",
       "      <th>stages</th>\n",
       "    </tr>\n",
       "  </thead>\n",
       "  <tbody>\n",
       "    <tr>\n",
       "      <th>243</th>\n",
       "      <td>103462439438682784</td>\n",
       "      <td>98767991299243168</td>\n",
       "      <td>LCS Spring 2020</td>\n",
       "      <td>lcs_spring_2020</td>\n",
       "      <td>lol</td>\n",
       "      <td>2020-01-24</td>\n",
       "      <td>2020-04-20</td>\n",
       "      <td>[{'name': 'Regular Season', 'sections': [{'mat...</td>\n",
       "    </tr>\n",
       "    <tr>\n",
       "      <th>83</th>\n",
       "      <td>103462459318635408</td>\n",
       "      <td>98767991302996016</td>\n",
       "      <td>LEC Spring 2020</td>\n",
       "      <td>lec_spring_2020</td>\n",
       "      <td>lol</td>\n",
       "      <td>2020-01-24</td>\n",
       "      <td>2020-04-27</td>\n",
       "      <td>[{'name': 'Regular Season', 'sections': [{'mat...</td>\n",
       "    </tr>\n",
       "    <tr>\n",
       "      <th>198</th>\n",
       "      <td>103462454280724880</td>\n",
       "      <td>99332500638116288</td>\n",
       "      <td>LCS Academy Spring 2020</td>\n",
       "      <td>lcs_academy_spring_2020</td>\n",
       "      <td>lol</td>\n",
       "      <td>2020-01-24</td>\n",
       "      <td>2020-04-20</td>\n",
       "      <td>[{'name': 'Regular Season', 'sections': [{'mat...</td>\n",
       "    </tr>\n",
       "    <tr>\n",
       "      <th>50</th>\n",
       "      <td>103478354329449184</td>\n",
       "      <td>98767991332355504</td>\n",
       "      <td>CBLOL 2020 Split 1</td>\n",
       "      <td>cblol_2020_split1</td>\n",
       "      <td>lol</td>\n",
       "      <td>2020-01-25</td>\n",
       "      <td>2020-05-03</td>\n",
       "      <td>[{'name': 'Regular Season', 'sections': [{'mat...</td>\n",
       "    </tr>\n",
       "    <tr>\n",
       "      <th>36</th>\n",
       "      <td>103535401218775280</td>\n",
       "      <td>98767991331560960</td>\n",
       "      <td>OPL 2020 Split 1</td>\n",
       "      <td>opl_2020_split1</td>\n",
       "      <td>lol</td>\n",
       "      <td>2020-01-31</td>\n",
       "      <td>2020-04-24</td>\n",
       "      <td>[{'name': 'Regular Season', 'sections': [{'mat...</td>\n",
       "    </tr>\n",
       "  </tbody>\n",
       "</table>\n",
       "</div>"
      ],
      "text/plain": [
       "                     id           leagueId                     name  \\\n",
       "243  103462439438682784  98767991299243168          LCS Spring 2020   \n",
       "83   103462459318635408  98767991302996016          LEC Spring 2020   \n",
       "198  103462454280724880  99332500638116288  LCS Academy Spring 2020   \n",
       "50   103478354329449184  98767991332355504       CBLOL 2020 Split 1   \n",
       "36   103535401218775280  98767991331560960         OPL 2020 Split 1   \n",
       "\n",
       "                        slug sport   startDate     endDate  \\\n",
       "243          lcs_spring_2020   lol  2020-01-24  2020-04-20   \n",
       "83           lec_spring_2020   lol  2020-01-24  2020-04-27   \n",
       "198  lcs_academy_spring_2020   lol  2020-01-24  2020-04-20   \n",
       "50         cblol_2020_split1   lol  2020-01-25  2020-05-03   \n",
       "36           opl_2020_split1   lol  2020-01-31  2020-04-24   \n",
       "\n",
       "                                                stages  \n",
       "243  [{'name': 'Regular Season', 'sections': [{'mat...  \n",
       "83   [{'name': 'Regular Season', 'sections': [{'mat...  \n",
       "198  [{'name': 'Regular Season', 'sections': [{'mat...  \n",
       "50   [{'name': 'Regular Season', 'sections': [{'mat...  \n",
       "36   [{'name': 'Regular Season', 'sections': [{'mat...  "
      ]
     },
     "execution_count": 38,
     "metadata": {},
     "output_type": "execute_result"
    }
   ],
   "source": [
    "tournaments_df = pd.read_parquet(\"../esports-data/tournaments.parquet\")\n",
    "tournaments_df.sort_values(by=[\"startDate\"], inplace=True)\n",
    "tournaments_df.head()"
   ]
  },
  {
   "cell_type": "code",
   "execution_count": 39,
   "id": "f8cb1017",
   "metadata": {},
   "outputs": [
    {
     "name": "stdout",
     "output_type": "stream",
     "text": [
      "We have access to 248 tournaments\n"
     ]
    }
   ],
   "source": [
    "print(f\"We have access to {len(tournaments_df)} tournaments\")"
   ]
  },
  {
   "cell_type": "markdown",
   "id": "1e307dda",
   "metadata": {},
   "source": [
    "For the 248 tournaments, it's important to see how the nested `stages` structure looks. It's a complex nested structure, so we will need some elbow grease (nested for-loops) to start parsing out the relevant information we are looking for our algorithm to calculate team rankings.\n",
    "\n",
    "The complex nesting makes this highly suitable for AWS Athena where a lot of this work is being cross-checked with SQL statements sprinkled in here and there, to ensure consistent outputs."
   ]
  },
  {
   "cell_type": "code",
   "execution_count": 52,
   "id": "3cc96c54",
   "metadata": {},
   "outputs": [
    {
     "data": {
      "text/plain": [
       "243    {'name': 'Regular Season', 'sections': [{'matc...\n",
       "243    {'name': 'Playoffs', 'sections': [{'matches': ...\n",
       "83     {'name': 'Regular Season', 'sections': [{'matc...\n",
       "83     {'name': 'Playoffs', 'sections': [{'matches': ...\n",
       "198    {'name': 'Regular Season', 'sections': [{'matc...\n",
       "Name: stages, dtype: object"
      ]
     },
     "execution_count": 52,
     "metadata": {},
     "output_type": "execute_result"
    }
   ],
   "source": [
    "exploded_stages = tournaments_df['stages'].explode()\n",
    "exploded_stages.head()"
   ]
  },
  {
   "cell_type": "code",
   "execution_count": 41,
   "id": "5daf3134",
   "metadata": {},
   "outputs": [
    {
     "name": "stdout",
     "output_type": "stream",
     "text": [
      "Num stage names: 18\n"
     ]
    },
    {
     "data": {
      "text/plain": [
       "{'Bracket Stage',\n",
       " 'Groups',\n",
       " 'Knockouts',\n",
       " 'Play In Groups',\n",
       " 'Play In Knockouts',\n",
       " 'Playoffs',\n",
       " 'Promotion Series',\n",
       " 'Regional Finals',\n",
       " 'Regional Qualifier',\n",
       " 'Regular Season',\n",
       " 'Round 1',\n",
       " 'Round 2',\n",
       " 'east',\n",
       " 'knockouts',\n",
       " 'play_in_knockouts',\n",
       " 'promotion',\n",
       " 'regional_qualifier',\n",
       " 'west'}"
      ]
     },
     "execution_count": 41,
     "metadata": {},
     "output_type": "execute_result"
    }
   ],
   "source": [
    "stage_names = set()\n",
    "for i, v in enumerate(exploded_stages):\n",
    "    stage_names.add(v['name'])\n",
    "\n",
    "print(f\"Num stage names: {len(stage_names)}\")\n",
    "stage_names"
   ]
  },
  {
   "cell_type": "code",
   "execution_count": 77,
   "id": "9914e8ae",
   "metadata": {},
   "outputs": [
    {
     "name": "stdout",
     "output_type": "stream",
     "text": [
      "We got 24628 completed games with a valid winner\n"
     ]
    },
    {
     "data": {
      "text/html": [
       "<div>\n",
       "<style scoped>\n",
       "    .dataframe tbody tr th:only-of-type {\n",
       "        vertical-align: middle;\n",
       "    }\n",
       "\n",
       "    .dataframe tbody tr th {\n",
       "        vertical-align: top;\n",
       "    }\n",
       "\n",
       "    .dataframe thead th {\n",
       "        text-align: right;\n",
       "    }\n",
       "</style>\n",
       "<table border=\"1\" class=\"dataframe\">\n",
       "  <thead>\n",
       "    <tr style=\"text-align: right;\">\n",
       "      <th></th>\n",
       "      <th>game_id</th>\n",
       "      <th>number</th>\n",
       "      <th>state</th>\n",
       "      <th>name</th>\n",
       "      <th>slug</th>\n",
       "      <th>startDate</th>\n",
       "      <th>endDate</th>\n",
       "      <th>team_blue</th>\n",
       "      <th>team_red</th>\n",
       "      <th>winner</th>\n",
       "    </tr>\n",
       "  </thead>\n",
       "  <tbody>\n",
       "    <tr>\n",
       "      <th>0</th>\n",
       "      <td>103462440145619626</td>\n",
       "      <td>1</td>\n",
       "      <td>completed</td>\n",
       "      <td>LCS Spring 2020</td>\n",
       "      <td>lcs_spring_2020</td>\n",
       "      <td>2020-01-24</td>\n",
       "      <td>2020-04-20</td>\n",
       "      <td>103461966951059521</td>\n",
       "      <td>98767991860392497</td>\n",
       "      <td>red</td>\n",
       "    </tr>\n",
       "    <tr>\n",
       "      <th>1</th>\n",
       "      <td>103462440145619628</td>\n",
       "      <td>1</td>\n",
       "      <td>completed</td>\n",
       "      <td>LCS Spring 2020</td>\n",
       "      <td>lcs_spring_2020</td>\n",
       "      <td>2020-01-24</td>\n",
       "      <td>2020-04-20</td>\n",
       "      <td>103461966951059521</td>\n",
       "      <td>98767991877340524</td>\n",
       "      <td>red</td>\n",
       "    </tr>\n",
       "    <tr>\n",
       "      <th>2</th>\n",
       "      <td>103462440145619630</td>\n",
       "      <td>1</td>\n",
       "      <td>completed</td>\n",
       "      <td>LCS Spring 2020</td>\n",
       "      <td>lcs_spring_2020</td>\n",
       "      <td>2020-01-24</td>\n",
       "      <td>2020-04-20</td>\n",
       "      <td>103461966951059521</td>\n",
       "      <td>98767991930907107</td>\n",
       "      <td>blue</td>\n",
       "    </tr>\n",
       "    <tr>\n",
       "      <th>3</th>\n",
       "      <td>103462440145619632</td>\n",
       "      <td>1</td>\n",
       "      <td>completed</td>\n",
       "      <td>LCS Spring 2020</td>\n",
       "      <td>lcs_spring_2020</td>\n",
       "      <td>2020-01-24</td>\n",
       "      <td>2020-04-20</td>\n",
       "      <td>98926509883054987</td>\n",
       "      <td>103461966951059521</td>\n",
       "      <td>blue</td>\n",
       "    </tr>\n",
       "    <tr>\n",
       "      <th>4</th>\n",
       "      <td>103462440145619634</td>\n",
       "      <td>1</td>\n",
       "      <td>completed</td>\n",
       "      <td>LCS Spring 2020</td>\n",
       "      <td>lcs_spring_2020</td>\n",
       "      <td>2020-01-24</td>\n",
       "      <td>2020-04-20</td>\n",
       "      <td>103461966951059521</td>\n",
       "      <td>98926509884398584</td>\n",
       "      <td>red</td>\n",
       "    </tr>\n",
       "  </tbody>\n",
       "</table>\n",
       "</div>"
      ],
      "text/plain": [
       "              game_id  number      state             name             slug  \\\n",
       "0  103462440145619626       1  completed  LCS Spring 2020  lcs_spring_2020   \n",
       "1  103462440145619628       1  completed  LCS Spring 2020  lcs_spring_2020   \n",
       "2  103462440145619630       1  completed  LCS Spring 2020  lcs_spring_2020   \n",
       "3  103462440145619632       1  completed  LCS Spring 2020  lcs_spring_2020   \n",
       "4  103462440145619634       1  completed  LCS Spring 2020  lcs_spring_2020   \n",
       "\n",
       "    startDate     endDate           team_blue            team_red winner  \n",
       "0  2020-01-24  2020-04-20  103461966951059521   98767991860392497    red  \n",
       "1  2020-01-24  2020-04-20  103461966951059521   98767991877340524    red  \n",
       "2  2020-01-24  2020-04-20  103461966951059521   98767991930907107   blue  \n",
       "3  2020-01-24  2020-04-20   98926509883054987  103461966951059521   blue  \n",
       "4  2020-01-24  2020-04-20  103461966951059521   98926509884398584    red  "
      ]
     },
     "execution_count": 77,
     "metadata": {},
     "output_type": "execute_result"
    }
   ],
   "source": [
    "games_list = []\n",
    "\n",
    "for _, row in tournaments_df.iterrows():\n",
    "    for stage in row['stages']:\n",
    "        for section in stage.get('sections', []):\n",
    "            for match in section.get('matches', []):\n",
    "                for game in match.get('games', []):\n",
    "                    if game.get('state') == \"completed\":\n",
    "                        game_info = {\n",
    "                            'id': game.get('id'),\n",
    "                            'number': game.get('number'),\n",
    "                            'state': game.get('state'),\n",
    "                            'name': row.get('name'),\n",
    "                            'slug': row.get('slug'),\n",
    "                            'startDate': row.get('startDate'),\n",
    "                            'endDate': row.get('endDate'),\n",
    "                        }\n",
    "                        for team in game.get('teams', []):\n",
    "                            side = team.get('side')\n",
    "                            outcome = team.get('result', {}).get('outcome')\n",
    "                            game_info[f'team_{side}'] = team.get('id')\n",
    "                            if outcome == 'win':\n",
    "                                game_info['winner'] = side\n",
    "                        games_list.append(game_info)\n",
    "\n",
    "# create dataframe\n",
    "games_df = pd.DataFrame(games_list)\n",
    "games_df.rename(columns={'id': 'game_id'}, inplace=True)\n",
    "\n",
    "print(f\"We got {len(games_df)} completed games with a valid winner\")\n",
    "\n",
    "# games_df.to_csv(\"../esports-data/tournament-game-data.csv\", index=False)\n",
    "# games_df.to_parquet(\"../esports-data/tournament-game-data.parquet\", index=False)\n",
    "games_df.head()"
   ]
  },
  {
   "cell_type": "markdown",
   "id": "7b0c86e5",
   "metadata": {},
   "source": [
    "As we can see, from the mapping data, we had `25,283` total mappings out of which, `24628` of those actually consist of `completed` games with a provided winner outcome.\n",
    "\n",
    "This is going to come in handy because when we want to start downloading actual game data, we can skip ones which don't mention the `completed` state and are more likely to have incomplete data. We can't afford to download every single game, so it's important to clean up the data and aggregate all the info that helps us make smarter choices further down the road.\n",
    "\n",
    "We'll start downloading the game data and start analyzing further. I've updated the original script to help us concurrently download game data for the year we are interested in which can be found @ path \"../utils/data-downloader.py\"\n",
    "\n",
    "> From here onwards, we should be using `tournament-game-data.parquet` or `tournament-game-data.csv`"
   ]
  },
  {
   "cell_type": "markdown",
   "id": "7444339f",
   "metadata": {},
   "source": [
    "# Features\n",
    "\n",
    "## Features 1: Playing Side: Blue vs Red\n",
    "\n",
    "\n",
    "Out of this file, the first bit of key information I am interested in is which team played on blue-side vs red-side. If you've played LoL at a high level, or watched pro-games, you'll come to know that based on the league meta, particular sides have their advantages.\n",
    "\n",
    "For instance, in a patch where there's an OP champion that has no counters or is a top prio pick, blue team gets first draft and thus can instantly pick that champion for an advantage.\n",
    "\n",
    "The sides should be given some weight also due to map layout differences.\n",
    "\n",
    "**Blue team** has:\n",
    "- an easier access to Baron, \n",
    "- top side gank paths (tri-brush)\n",
    "\n",
    "**Red team** has:\n",
    "- easier access to dragon\n",
    "- bot side gank path (tri-brush). \n",
    "\n",
    "Historically, the top lane gank path for the **Blue side** has been more advantageous than the gank path for the bot side for **Red** due to the fact that top-lane only has **1 champion**.\n",
    "\n",
    "There is no one else to help you ward, peel or escape from ganks if the blue team were to abuse this extra power while bot lane supports can at least peel or ward to prevent total abuse. To exemplify this, immobile top-lane champions on the red side have worse win-rates than on the blue-side:\n",
    "\n",
    "![Immobile Red Blue Side Top Lane Comparison](doc-assets/red_blue_top.png)\n",
    "![Red Blue Bot Lane Comparison](doc-assets/red_blue_bot.png)\n",
    "\n",
    "Top lane could have close to ~5% win rate difference based on which side they are playing vs the ~1.5% difference of bot lane.\n",
    "\n",
    "Plus, the advantages of blue side due to map layout are also within the domain of monster kills. While the Red side has an advantage to take dragon, there's a higher chance that an all out fight breaks out that can go either ways (TP from top lane, bot and mid rotates come in). However, a jungler might be able to sneak herald pre baron timer with minimal HP if the kiting is done well, which is to be expected at a pro-level.\n",
    "\n",
    "Last but not least, there's also the aspect of the camera angle, of which the blue side can be referred as the \"default\" view since tutorials are done in this format, and also the angle creates a trapezium that provides some benefits for blue side viewing angles. \n",
    "\n",
    "This matter can seem subjective, but from my own anecdotal experience, playing on the red-side does take some getting used to and feels a little unnatural to throw skillshots down into the screen. At the highest level, this might not seem as significant, but that's why we won't just rely on the reference video, but will conduct an initial analysis on our dataset to come to our own conclusions.\n",
    "\n",
    "Reference: https://www.youtube.com/watch?v=IOxhv9ipen8"
   ]
  },
  {
   "cell_type": "markdown",
   "id": "e61e69e2",
   "metadata": {},
   "source": [
    "### SubProblem 1: Games with unknown team IDs\n",
    "\n",
    "#### Preface\n",
    "\n",
    "> This part has been cleaned up after said data analysis to maintain flow of the project for any reader going in order, but the caveat is that a lot of this intuition came of cleaning and playing around with the data\n",
    "\n",
    "So far, we've been heading in the right direction, and with our `tournament_game_data` and `cleaned_distinct_team_player_mapping` data, we can start looking into calculating blue and red win rates effectively. \n"
   ]
  },
  {
   "cell_type": "code",
   "execution_count": 136,
   "id": "51e0afb2",
   "metadata": {
    "scrolled": false
   },
   "outputs": [
    {
     "data": {
      "text/plain": [
       "(              team_id            team_name acronym              slug  \\\n",
       " 0  105505619546859895  OKSavingsBank BRION     BRO      fredit-brion   \n",
       " 1  106827823550343961          AXZ Academy     AXZ       axz-academy   \n",
       " 2   98767991949608898     Fenerbahçe Espor      FB  fenerbahce-espor   \n",
       " 3  109642680932009857         Nord Esports    NORD      nord-esports   \n",
       " 4  110534712174898632           Blue Otter     BOL        blue-otter   \n",
       " \n",
       "             player_id     handle   first_name   last_name  \n",
       " 0   99566404525897139       UmTi    Sunghyeon          Um  \n",
       " 1  110536783764146522   kentakki        Kenta       Saito  \n",
       " 2   99566404559755136  SeongHwan          Yun  Seong Hwan  \n",
       " 3  110428375437150775       Hid0  Gian Miguel     Caruana  \n",
       " 4  109800032657915058        Zev         Mark  Villaneuva  ,\n",
       "               game_id  number      state             name             slug  \\\n",
       " 0  103462440145619626       1  completed  LCS Spring 2020  lcs_spring_2020   \n",
       " 1  103462440145619628       1  completed  LCS Spring 2020  lcs_spring_2020   \n",
       " 2  103462440145619630       1  completed  LCS Spring 2020  lcs_spring_2020   \n",
       " 3  103462440145619632       1  completed  LCS Spring 2020  lcs_spring_2020   \n",
       " 4  103462440145619634       1  completed  LCS Spring 2020  lcs_spring_2020   \n",
       " \n",
       "     startDate     endDate           team_blue            team_red winner  \n",
       " 0  2020-01-24  2020-04-20  103461966951059521   98767991860392497    red  \n",
       " 1  2020-01-24  2020-04-20  103461966951059521   98767991877340524    red  \n",
       " 2  2020-01-24  2020-04-20  103461966951059521   98767991930907107   blue  \n",
       " 3  2020-01-24  2020-04-20   98926509883054987  103461966951059521   blue  \n",
       " 4  2020-01-24  2020-04-20  103461966951059521   98926509884398584    red  )"
      ]
     },
     "execution_count": 136,
     "metadata": {},
     "output_type": "execute_result"
    }
   ],
   "source": [
    "# load the cleaned distinct team player mapping file\n",
    "team_player_mapping = pd.read_csv('../esports-data/cleaned_distinct_team_player_mapping.csv')\n",
    "\n",
    "# load the tournament game data\n",
    "tournament_game_data = pd.read_csv('../esports-data/tournament-game-data.csv')\n",
    "team_player_mapping.head(), tournament_game_data.head()"
   ]
  },
  {
   "cell_type": "code",
   "execution_count": 162,
   "id": "db255aec",
   "metadata": {
    "scrolled": false
   },
   "outputs": [
    {
     "data": {
      "text/html": [
       "<div>\n",
       "<style scoped>\n",
       "    .dataframe tbody tr th:only-of-type {\n",
       "        vertical-align: middle;\n",
       "    }\n",
       "\n",
       "    .dataframe tbody tr th {\n",
       "        vertical-align: top;\n",
       "    }\n",
       "\n",
       "    .dataframe thead th {\n",
       "        text-align: right;\n",
       "    }\n",
       "</style>\n",
       "<table border=\"1\" class=\"dataframe\">\n",
       "  <thead>\n",
       "    <tr style=\"text-align: right;\">\n",
       "      <th></th>\n",
       "      <th>Team ID</th>\n",
       "      <th>Blue Side Win %</th>\n",
       "      <th>Red Side Win %</th>\n",
       "      <th>team_name</th>\n",
       "    </tr>\n",
       "  </thead>\n",
       "  <tbody>\n",
       "    <tr>\n",
       "      <th>0</th>\n",
       "      <td>98767991846127102</td>\n",
       "      <td>42.857143</td>\n",
       "      <td>70.833333</td>\n",
       "      <td>ahq eSports Club</td>\n",
       "    </tr>\n",
       "    <tr>\n",
       "      <th>1</th>\n",
       "      <td>98767991853197861</td>\n",
       "      <td>68.283582</td>\n",
       "      <td>61.885246</td>\n",
       "      <td>T1</td>\n",
       "    </tr>\n",
       "    <tr>\n",
       "      <th>2</th>\n",
       "      <td>98767991860392497</td>\n",
       "      <td>54.330709</td>\n",
       "      <td>44.094488</td>\n",
       "      <td>TSM</td>\n",
       "    </tr>\n",
       "    <tr>\n",
       "      <th>3</th>\n",
       "      <td>98767991866488695</td>\n",
       "      <td>54.198473</td>\n",
       "      <td>55.882353</td>\n",
       "      <td>Fnatic</td>\n",
       "    </tr>\n",
       "    <tr>\n",
       "      <th>4</th>\n",
       "      <td>98767991871709842</td>\n",
       "      <td>77.777778</td>\n",
       "      <td>55.555556</td>\n",
       "      <td>NaN</td>\n",
       "    </tr>\n",
       "  </tbody>\n",
       "</table>\n",
       "</div>"
      ],
      "text/plain": [
       "             Team ID  Blue Side Win %  Red Side Win %         team_name\n",
       "0  98767991846127102        42.857143       70.833333  ahq eSports Club\n",
       "1  98767991853197861        68.283582       61.885246                T1\n",
       "2  98767991860392497        54.330709       44.094488               TSM\n",
       "3  98767991866488695        54.198473       55.882353            Fnatic\n",
       "4  98767991871709842        77.777778       55.555556               NaN"
      ]
     },
     "execution_count": 162,
     "metadata": {},
     "output_type": "execute_result"
    }
   ],
   "source": [
    "# Calculate the number of games each team played on the blue side and the number of games they won on the blue side\n",
    "blue_games = tournament_game_data.groupby('team_blue').size()\n",
    "blue_wins = tournament_game_data[tournament_game_data['winner'] == 'blue'].groupby('team_blue').size()\n",
    "blue_win_percentage = (blue_wins / blue_games * 100).fillna(0)\n",
    "\n",
    "# Calculate the number of games each team played on the red side and the number of games they won on the red side\n",
    "red_games = tournament_game_data.groupby('team_red').size()\n",
    "red_wins = tournament_game_data[tournament_game_data['winner'] == 'red'].groupby('team_red').size()\n",
    "red_win_percentage = (red_wins / red_games * 100).fillna(0)\n",
    "\n",
    "# Merge the blue and red side win percentages into one DataFrame\n",
    "win_percentages = pd.concat([blue_win_percentage, red_win_percentage], axis=1)\n",
    "win_percentages.columns = ['Blue Side Win %', 'Red Side Win %']\n",
    "win_percentages = win_percentages.fillna(0).reset_index()\n",
    "win_percentages.columns = ['Team ID', 'Blue Side Win %', 'Red Side Win %']\n",
    "\n",
    "# Create a mapping of team ID to team name\n",
    "team_name_mapping = team_player_mapping.drop_duplicates(subset='team_id')[['team_id', 'team_name']].set_index('team_id')\n",
    "\n",
    "# Merge the win percentages dataframe with the team name mapping\n",
    "win_percentages_with_names = win_percentages.merge(team_name_mapping, left_on='Team ID', right_index=True, how='left')\n",
    "\n",
    "win_percentages_with_names.head()"
   ]
  },
  {
   "cell_type": "markdown",
   "id": "9c9ab9f3",
   "metadata": {},
   "source": [
    "We can see that we have some NaN values for the team names that couldn't be mapped based on the data files, so let's fill those up with \"Unknown\" for the time being so we don't have to deal with NaN names."
   ]
  },
  {
   "cell_type": "code",
   "execution_count": 163,
   "id": "4f989b67",
   "metadata": {},
   "outputs": [
    {
     "data": {
      "text/html": [
       "<div>\n",
       "<style scoped>\n",
       "    .dataframe tbody tr th:only-of-type {\n",
       "        vertical-align: middle;\n",
       "    }\n",
       "\n",
       "    .dataframe tbody tr th {\n",
       "        vertical-align: top;\n",
       "    }\n",
       "\n",
       "    .dataframe thead th {\n",
       "        text-align: right;\n",
       "    }\n",
       "</style>\n",
       "<table border=\"1\" class=\"dataframe\">\n",
       "  <thead>\n",
       "    <tr style=\"text-align: right;\">\n",
       "      <th></th>\n",
       "      <th>Team ID</th>\n",
       "      <th>team_name</th>\n",
       "      <th>Blue Side Win %</th>\n",
       "      <th>Red Side Win %</th>\n",
       "    </tr>\n",
       "  </thead>\n",
       "  <tbody>\n",
       "    <tr>\n",
       "      <th>0</th>\n",
       "      <td>98767991846127102</td>\n",
       "      <td>ahq eSports Club</td>\n",
       "      <td>42.857143</td>\n",
       "      <td>70.833333</td>\n",
       "    </tr>\n",
       "    <tr>\n",
       "      <th>1</th>\n",
       "      <td>98767991853197861</td>\n",
       "      <td>T1</td>\n",
       "      <td>68.283582</td>\n",
       "      <td>61.885246</td>\n",
       "    </tr>\n",
       "    <tr>\n",
       "      <th>2</th>\n",
       "      <td>98767991860392497</td>\n",
       "      <td>TSM</td>\n",
       "      <td>54.330709</td>\n",
       "      <td>44.094488</td>\n",
       "    </tr>\n",
       "    <tr>\n",
       "      <th>3</th>\n",
       "      <td>98767991866488695</td>\n",
       "      <td>Fnatic</td>\n",
       "      <td>54.198473</td>\n",
       "      <td>55.882353</td>\n",
       "    </tr>\n",
       "    <tr>\n",
       "      <th>4</th>\n",
       "      <td>98767991871709842</td>\n",
       "      <td>Unknown</td>\n",
       "      <td>77.777778</td>\n",
       "      <td>55.555556</td>\n",
       "    </tr>\n",
       "  </tbody>\n",
       "</table>\n",
       "</div>"
      ],
      "text/plain": [
       "             Team ID         team_name  Blue Side Win %  Red Side Win %\n",
       "0  98767991846127102  ahq eSports Club        42.857143       70.833333\n",
       "1  98767991853197861                T1        68.283582       61.885246\n",
       "2  98767991860392497               TSM        54.330709       44.094488\n",
       "3  98767991866488695            Fnatic        54.198473       55.882353\n",
       "4  98767991871709842           Unknown        77.777778       55.555556"
      ]
     },
     "execution_count": 163,
     "metadata": {},
     "output_type": "execute_result"
    }
   ],
   "source": [
    "# Fill any NaN team names with \"Unknown\"\n",
    "win_percentages_with_names['team_name'] = win_percentages_with_names['team_name'].fillna('Unknown')\n",
    "win_percentages_with_names = win_percentages_with_names[['Team ID', 'team_name', 'Blue Side Win %', 'Red Side Win %']]\n",
    "win_percentages_with_names.head()"
   ]
  },
  {
   "cell_type": "markdown",
   "id": "c1d5396e",
   "metadata": {},
   "source": [
    "Since we've had NaN/Unknown team names, it's implied that we have more team_id's than we have mappings. Let's quickly verify that from our cleaned data file."
   ]
  },
  {
   "cell_type": "code",
   "execution_count": 172,
   "id": "b592fc28",
   "metadata": {
    "scrolled": true
   },
   "outputs": [
    {
     "name": "stdout",
     "output_type": "stream",
     "text": [
      "Number of unique teams provided in name mapping file: 502\n",
      "Number of teams with available win percentages: 625\n"
     ]
    }
   ],
   "source": [
    "# all unique team names and IDs from the cleaned_distinct_team_player_mapping dataset\n",
    "unique_teams_mapping = team_player_mapping[['team_id', 'team_name']].drop_duplicates()\n",
    "print(f\"Number of unique teams provided in name mapping file: {len(unique_teams_mapping)}\")\n",
    "\n",
    "# number of team id's with blue/red side information\n",
    "print(f\"Number of teams with available win percentages: {len(win_percentages_with_names)}\")"
   ]
  },
  {
   "cell_type": "markdown",
   "id": "e9cde0d8",
   "metadata": {},
   "source": [
    "From the cleaned distinct team mapping data, we can see that the number of teams provided is 502, whereas we have 625 win-percentages. This presents us a new subproblem to tackle where we need to answer the following questions:\n",
    "- how many of the teams present within the name mapping don't have games recorded within the tournaments file\n",
    "- checks for any issues with the data before we derive statistical significance\n",
    "- handling skews\n",
    "\n",
    "We also have to perform a sanity check to ensure that we've not accidentally skipped valid mappings due to any errors on our part"
   ]
  },
  {
   "cell_type": "markdown",
   "id": "74e9f402",
   "metadata": {},
   "source": [
    "***\n",
    "### SubProblem 2: Knowns & Unknowns - verifying our actions thus far\n",
    "\n"
   ]
  },
  {
   "cell_type": "code",
   "execution_count": 174,
   "id": "956e039f",
   "metadata": {
    "scrolled": true
   },
   "outputs": [
    {
     "name": "stdout",
     "output_type": "stream",
     "text": [
      "Number of team IDs with no name mapping (Unknown): 140\n"
     ]
    }
   ],
   "source": [
    "# Count the number of entries where the team name is \"Unknown\"\n",
    "unknown_teams = win_percentages_with_names[win_percentages_with_names['team_name'] == 'Unknown']\n",
    "\n",
    "print(f\"Number of team IDs with no name mapping (Unknown): {len(unknown_teams)}\")"
   ]
  },
  {
   "cell_type": "markdown",
   "id": "1481f56c",
   "metadata": {},
   "source": [
    "Woah! That's quite a bit of teams marked \"Unknown\". This raises further questions about the integrity of the data within these \"Unknown\" team rows. Do they have any actual % info in them? Did we mess up?\n",
    "\n",
    "Let's try to answer that by checking which teams were omitted from the name info we do have access to."
   ]
  },
  {
   "cell_type": "code",
   "execution_count": 173,
   "id": "5f1f0b8d",
   "metadata": {},
   "outputs": [
    {
     "name": "stdout",
     "output_type": "stream",
     "text": [
      "Missing teams from team-player data mapping: 17\n"
     ]
    },
    {
     "data": {
      "text/html": [
       "<div>\n",
       "<style scoped>\n",
       "    .dataframe tbody tr th:only-of-type {\n",
       "        vertical-align: middle;\n",
       "    }\n",
       "\n",
       "    .dataframe tbody tr th {\n",
       "        vertical-align: top;\n",
       "    }\n",
       "\n",
       "    .dataframe thead th {\n",
       "        text-align: right;\n",
       "    }\n",
       "</style>\n",
       "<table border=\"1\" class=\"dataframe\">\n",
       "  <thead>\n",
       "    <tr style=\"text-align: right;\">\n",
       "      <th></th>\n",
       "      <th>team_id</th>\n",
       "      <th>team_name</th>\n",
       "    </tr>\n",
       "  </thead>\n",
       "  <tbody>\n",
       "    <tr>\n",
       "      <th>18</th>\n",
       "      <td>98926509887041994</td>\n",
       "      <td>Echo Fox</td>\n",
       "    </tr>\n",
       "    <tr>\n",
       "      <th>156</th>\n",
       "      <td>100285330169036485</td>\n",
       "      <td>Unsold Stuff Gaming</td>\n",
       "    </tr>\n",
       "    <tr>\n",
       "      <th>233</th>\n",
       "      <td>100205576949530558</td>\n",
       "      <td>Bursaspor Esports</td>\n",
       "    </tr>\n",
       "    <tr>\n",
       "      <th>638</th>\n",
       "      <td>99294153830557090</td>\n",
       "      <td>OpTic Gaming</td>\n",
       "    </tr>\n",
       "    <tr>\n",
       "      <th>651</th>\n",
       "      <td>99566404578577099</td>\n",
       "      <td>Jin Air Green Wings</td>\n",
       "    </tr>\n",
       "    <tr>\n",
       "      <th>854</th>\n",
       "      <td>99566405131343995</td>\n",
       "      <td>Echo Fox Academy</td>\n",
       "    </tr>\n",
       "    <tr>\n",
       "      <th>1382</th>\n",
       "      <td>98767991902391669</td>\n",
       "      <td>Flash Wolves</td>\n",
       "    </tr>\n",
       "    <tr>\n",
       "      <th>1383</th>\n",
       "      <td>102787200147504121</td>\n",
       "      <td>Campus Party Sparks</td>\n",
       "    </tr>\n",
       "    <tr>\n",
       "      <th>1402</th>\n",
       "      <td>99294153826603341</td>\n",
       "      <td>Clutch Gaming</td>\n",
       "    </tr>\n",
       "    <tr>\n",
       "      <th>1520</th>\n",
       "      <td>101157821459731619</td>\n",
       "      <td>Tandem Mode C</td>\n",
       "    </tr>\n",
       "    <tr>\n",
       "      <th>1896</th>\n",
       "      <td>103240746426776197</td>\n",
       "      <td>Shrimp</td>\n",
       "    </tr>\n",
       "    <tr>\n",
       "      <th>1901</th>\n",
       "      <td>99566406336293850</td>\n",
       "      <td>Bombers</td>\n",
       "    </tr>\n",
       "    <tr>\n",
       "      <th>1904</th>\n",
       "      <td>102787200141016030</td>\n",
       "      <td>Rogue Esports Club</td>\n",
       "    </tr>\n",
       "    <tr>\n",
       "      <th>2016</th>\n",
       "      <td>105521426070232498</td>\n",
       "      <td>Rejects Gaming</td>\n",
       "    </tr>\n",
       "    <tr>\n",
       "      <th>2182</th>\n",
       "      <td>105521201981545679</td>\n",
       "      <td>The Spawn Esports</td>\n",
       "    </tr>\n",
       "    <tr>\n",
       "      <th>2290</th>\n",
       "      <td>101978171845303729</td>\n",
       "      <td>MEGA Esports</td>\n",
       "    </tr>\n",
       "    <tr>\n",
       "      <th>2348</th>\n",
       "      <td>99566405688134373</td>\n",
       "      <td>Besiktasarchive</td>\n",
       "    </tr>\n",
       "  </tbody>\n",
       "</table>\n",
       "</div>"
      ],
      "text/plain": [
       "                 team_id            team_name\n",
       "18     98926509887041994             Echo Fox\n",
       "156   100285330169036485  Unsold Stuff Gaming\n",
       "233   100205576949530558    Bursaspor Esports\n",
       "638    99294153830557090         OpTic Gaming\n",
       "651    99566404578577099  Jin Air Green Wings\n",
       "854    99566405131343995     Echo Fox Academy\n",
       "1382   98767991902391669         Flash Wolves\n",
       "1383  102787200147504121  Campus Party Sparks\n",
       "1402   99294153826603341        Clutch Gaming\n",
       "1520  101157821459731619        Tandem Mode C\n",
       "1896  103240746426776197               Shrimp\n",
       "1901   99566406336293850              Bombers\n",
       "1904  102787200141016030   Rogue Esports Club\n",
       "2016  105521426070232498       Rejects Gaming\n",
       "2182  105521201981545679    The Spawn Esports\n",
       "2290  101978171845303729         MEGA Esports\n",
       "2348   99566405688134373      Besiktasarchive"
      ]
     },
     "execution_count": 173,
     "metadata": {},
     "output_type": "execute_result"
    }
   ],
   "source": [
    "missing_teams = unique_teams_mapping[~unique_teams_mapping['team_id'].isin(win_percentages_with_names['Team ID'])]\n",
    "print(f\"Missing teams from team-player data mapping: {len(missing_teams)}\")\n",
    "missing_teams"
   ]
  },
  {
   "cell_type": "markdown",
   "id": "5916f83d",
   "metadata": {},
   "source": [
    "Since there's only 17 or so teams, I decided to do a brief manual check to verify my theory: \n",
    "\n",
    "> The primary reason for data for these teams not existing within our win-percentages file (which is derived from tournament data Riot provided), is because we genuinely don't have any data for these teams based on the leagues they play in, or the team is defunct and DNE anymore.\n",
    "\n",
    "**Example 1:** The Spawn Esports is an active team that still plays today, but in the [Greek Legends Wings League](https://lol.fandom.com/wiki/GLWL/2022_Season/Spring_Season) which we have no data on.\n",
    "\n",
    "Similarly, another reason we have no data for certain teams is because said team no longer exists!\n",
    "\n",
    "**Example 2:** **OpTic Gaming** was [acquired by Immortals](https://venturebeat.com/business/immortals-esports-acquires-optic-gaming-owner-infinite-sports-entertainment/) in 2020 and last played at the [LCS 2019 Summer Playoffs](https://lol.fandom.com/wiki/OpTic_Gaming/Match_History), hence we have no data on them. \n",
    "\n",
    "> It is worth noting that we have win percentage info on Immortals AOE (107580444745581889) and Immortals Progressive (98767991930907107), with the latter being the main team after their [recent brand merger with Progressive Insurance](https://www.prnewswire.com/news-releases/immortals-and-progressive-insurance-announce-multi-year-league-of-legends-naming-rights-deal-301460064.html).\n",
    "\n",
    "> [Immortals AOE](https://liquipedia.net/leagueoflegends/Immortals_AOE) is a defunct team which only played in the [LCS Proving Grounds leagues from 2021/2022](https://lol.fandom.com/wiki/Immortals_Area_of_Effect/Match_History), and hence we still have some data.\n",
    "\n",
    "With all this said, the conclusion here is that we can safely ignore the potential of the lack of the mappings to erroneous operations on our end 😅 and move towards cleaning up the data to determine the statistical significance of blue/red side advantage."
   ]
  },
  {
   "cell_type": "markdown",
   "id": "6e97235d",
   "metadata": {},
   "source": [
    "### SubProblem 3: Cleaning data before analysis\n",
    "\n",
    "With the mystery of missing mappings solved, now all that's left to be done is to finally clean up our data of all the factors that could potentially cause skews.\n",
    "\n",
    "If a team, Unknown or Known, has only played on __one__ side and not the other, it can influence our analysis since we're comparing win percentages on both sides. \n",
    "\n",
    "Such teams could introduce bias, especially if they have extreme win percentages (very high like 100% or very low like 0%) on the one side they've played.\n",
    "\n",
    "> NOTE: We can still keep the win percentages of Unknown teams since those are still games that we have data for from an environment which upholds a certain competitive integrity as deemed by Riot. Hence, despite the team name being unknown, they still add statistical significance for our purpose\n",
    "\n",
    "Let's find out teams that have played on either blue or red side only."
   ]
  },
  {
   "cell_type": "code",
   "execution_count": 178,
   "id": "689d9f9e",
   "metadata": {},
   "outputs": [
    {
     "name": "stdout",
     "output_type": "stream",
     "text": [
      "Number of teams with only blue win %: 55\n",
      "Number of teams with only red win %: 54\n"
     ]
    }
   ],
   "source": [
    "# Identify teams that have played only on one side\n",
    "only_blue = win_percentages_with_names[win_percentages_with_names['Red Side Win %'] == 0]\n",
    "only_red = win_percentages_with_names[win_percentages_with_names['Blue Side Win %'] == 0]\n",
    "print(f\"Number of teams with only blue win %: {len(only_blue)}\")\n",
    "print(f\"Number of teams with only red win %: {len(only_red)}\")"
   ]
  },
  {
   "cell_type": "markdown",
   "id": "5bc1be82",
   "metadata": {},
   "source": [
    "Given the numbers are this close (55/54), there's a high chance that a lot of this data is overlapping. \n",
    "\n",
    "Let's exclude them completely"
   ]
  },
  {
   "cell_type": "code",
   "execution_count": 185,
   "id": "1584687a",
   "metadata": {
    "scrolled": true
   },
   "outputs": [
    {
     "name": "stdout",
     "output_type": "stream",
     "text": [
      "Filtered win-percentages with only red/blue removed: 544\n"
     ]
    }
   ],
   "source": [
    "exclusion_indices = only_blue.index.union(only_red.index)\n",
    "\n",
    "# Exclude teams that have only played on one side\n",
    "win_percentages_with_names_filtered = win_percentages_with_names.drop(exclusion_indices)\n",
    "print(f\"Filtered win-percentages with only red/blue removed: {len(win_percentages_with_names_filtered)}\")\n",
    "\n",
    "# win_percentages_with_names_filtered.to_csv(\"../esports-data/win-percentages-cleaned.csv\", index=False)"
   ]
  },
  {
   "cell_type": "markdown",
   "id": "9c6377bb",
   "metadata": {},
   "source": [
    "We are down to 544 from 625 we started off with. Now we are ready to dive into our win percentages to find statistical significance.\n",
    "\n",
    "> From here on, use win-percentages-cleaned.csv"
   ]
  },
  {
   "cell_type": "code",
   "execution_count": 186,
   "id": "6f0dea04",
   "metadata": {},
   "outputs": [
    {
     "data": {
      "text/html": [
       "<div>\n",
       "<style scoped>\n",
       "    .dataframe tbody tr th:only-of-type {\n",
       "        vertical-align: middle;\n",
       "    }\n",
       "\n",
       "    .dataframe tbody tr th {\n",
       "        vertical-align: top;\n",
       "    }\n",
       "\n",
       "    .dataframe thead th {\n",
       "        text-align: right;\n",
       "    }\n",
       "</style>\n",
       "<table border=\"1\" class=\"dataframe\">\n",
       "  <thead>\n",
       "    <tr style=\"text-align: right;\">\n",
       "      <th></th>\n",
       "      <th>Team ID</th>\n",
       "      <th>Blue Side Win %</th>\n",
       "      <th>Red Side Win %</th>\n",
       "    </tr>\n",
       "  </thead>\n",
       "  <tbody>\n",
       "    <tr>\n",
       "      <th>count</th>\n",
       "      <td>5.440000e+02</td>\n",
       "      <td>544.000000</td>\n",
       "      <td>544.000000</td>\n",
       "    </tr>\n",
       "    <tr>\n",
       "      <th>mean</th>\n",
       "      <td>1.054890e+17</td>\n",
       "      <td>47.945943</td>\n",
       "      <td>45.318130</td>\n",
       "    </tr>\n",
       "    <tr>\n",
       "      <th>std</th>\n",
       "      <td>3.320169e+15</td>\n",
       "      <td>16.439803</td>\n",
       "      <td>16.087280</td>\n",
       "    </tr>\n",
       "    <tr>\n",
       "      <th>min</th>\n",
       "      <td>9.876799e+16</td>\n",
       "      <td>5.882353</td>\n",
       "      <td>5.263158</td>\n",
       "    </tr>\n",
       "    <tr>\n",
       "      <th>25%</th>\n",
       "      <td>1.035353e+17</td>\n",
       "      <td>36.363636</td>\n",
       "      <td>33.885267</td>\n",
       "    </tr>\n",
       "    <tr>\n",
       "      <th>50%</th>\n",
       "      <td>1.055940e+17</td>\n",
       "      <td>49.179446</td>\n",
       "      <td>46.153846</td>\n",
       "    </tr>\n",
       "    <tr>\n",
       "      <th>75%</th>\n",
       "      <td>1.075991e+17</td>\n",
       "      <td>59.003497</td>\n",
       "      <td>56.589052</td>\n",
       "    </tr>\n",
       "    <tr>\n",
       "      <th>max</th>\n",
       "      <td>1.107339e+17</td>\n",
       "      <td>100.000000</td>\n",
       "      <td>100.000000</td>\n",
       "    </tr>\n",
       "  </tbody>\n",
       "</table>\n",
       "</div>"
      ],
      "text/plain": [
       "            Team ID  Blue Side Win %  Red Side Win %\n",
       "count  5.440000e+02       544.000000      544.000000\n",
       "mean   1.054890e+17        47.945943       45.318130\n",
       "std    3.320169e+15        16.439803       16.087280\n",
       "min    9.876799e+16         5.882353        5.263158\n",
       "25%    1.035353e+17        36.363636       33.885267\n",
       "50%    1.055940e+17        49.179446       46.153846\n",
       "75%    1.075991e+17        59.003497       56.589052\n",
       "max    1.107339e+17       100.000000      100.000000"
      ]
     },
     "execution_count": 186,
     "metadata": {},
     "output_type": "execute_result"
    }
   ],
   "source": [
    "win_percentages_with_names_filtered.describe()"
   ]
  },
  {
   "cell_type": "markdown",
   "id": "42c5a418",
   "metadata": {},
   "source": [
    "Based on the descriptive statistics, on average, blue side wins ~2.63% more games.\n",
    "\n",
    "Blue Side Win Percentage: Mean: 47.95%, Median: 49.18%, Standard Deviation: 16.44%\n",
    "\n",
    "Red Side Win Percentage: Mean: 45.32%, Median: 46.15%, Standard Deviation: 16.09%\n",
    "    \n",
    "Let's plot this out for a clearer view"
   ]
  },
  {
   "cell_type": "code",
   "execution_count": 191,
   "id": "6b6c9d03",
   "metadata": {},
   "outputs": [
    {
     "data": {
      "image/png": "[encoded data removed]",
      "text/plain": [
       "<Figure size 1400x700 with 1 Axes>"
      ]
     },
     "metadata": {},
     "output_type": "display_data"
    }
   ],
   "source": [
    "sns.set_style(\"whitegrid\")\n",
    "plt.figure(figsize=(14, 7))\n",
    "\n",
    "\n",
    "sns.kdeplot(win_percentages_with_names_filtered['Blue Side Win %'], fill=True, color=\"blue\", label=\"Blue Side Win %\", alpha=0.7)\n",
    "sns.kdeplot(win_percentages_with_names_filtered['Red Side Win %'], fill=True, color=\"red\", label=\"Red Side Win %\", alpha=0.7)\n",
    "\n",
    "plt.title(\"Distribution of Win Percentages for Blue and Red Sides\")\n",
    "plt.xlabel(\"Win Percentage\")\n",
    "plt.ylabel(\"Density\")\n",
    "plt.legend()\n",
    "\n",
    "plt.show()"
   ]
  },
  {
   "cell_type": "markdown",
   "id": "5e9e63fd",
   "metadata": {},
   "source": [
    "The visualization provides a clearer view of the distributions of win percentages for both the blue and red sides. Here's what we can observe:\n",
    "- both distributions appear somewhat normally distributed with some skewness.\n",
    "- the blue side's distribution seems to have a slightly more pronounced peak around the 50% mark compared to the red side, supporting the observation from the descriptive statistics that the blue side has a slightly higher average win percentage."
   ]
  },
  {
   "cell_type": "code",
   "execution_count": 193,
   "id": "1ff21b2e",
   "metadata": {},
   "outputs": [
    {
     "data": {
      "text/plain": [
       "(320, 202, 22)"
      ]
     },
     "execution_count": 193,
     "metadata": {},
     "output_type": "execute_result"
    }
   ],
   "source": [
    "# quick maffs\n",
    "blue_favored = win_percentages_with_names_filtered[win_percentages_with_names_filtered['Blue Side Win %'] > win_percentages_with_names_filtered['Red Side Win %']].shape[0]\n",
    "red_favored = win_percentages_with_names_filtered[win_percentages_with_names_filtered['Red Side Win %'] > win_percentages_with_names_filtered['Blue Side Win %']].shape[0]\n",
    "equal_performance = win_percentages_with_names_filtered[win_percentages_with_names_filtered['Red Side Win %'] == win_percentages_with_names_filtered['Blue Side Win %']].shape[0]\n",
    "\n",
    "blue_favored, red_favored, equal_performance"
   ]
  },
  {
   "cell_type": "markdown",
   "id": "4bb6cfac",
   "metadata": {},
   "source": [
    "So roughly 320 teams have a higher win rate on blue, 202 have a higher rate on red, and around 22 teams have balanced 50% win rate on both sides.\n",
    "\n",
    "We'll use a paired t-test since the data for blue and red sides come from the same teams. The null hypothesis will be that there is no difference in win percentages between the two sides, while the alternative hypothesis will be that there is a difference."
   ]
  },
  {
   "cell_type": "code",
   "execution_count": 194,
   "id": "755532cc",
   "metadata": {},
   "outputs": [
    {
     "data": {
      "text/plain": [
       "(3.8686800345733583, 0.00012270991951739623)"
      ]
     },
     "execution_count": 194,
     "metadata": {},
     "output_type": "execute_result"
    }
   ],
   "source": [
    "# Conduct a paired t-test\n",
    "t_stat, p_value = ttest_rel(win_percentages_with_names_filtered['Blue Side Win %'], win_percentages_with_names_filtered['Red Side Win %'])\n",
    "\n",
    "t_stat, p_value"
   ]
  },
  {
   "cell_type": "markdown",
   "id": "9822aa12",
   "metadata": {},
   "source": [
    "The results of the paired t-test are as follows:\n",
    "- t-statistic: 3.87\n",
    "- p-value: 0.00012\n",
    "\n",
    "Given a commonly used significance level of α=0.05, the p-value of 0.00012 is less than α. This means we can reject the null hypothesis and conclude that there is a statistically significant difference in the win percentages between the blue and red sides."
   ]
  },
  {
   "cell_type": "markdown",
   "id": "384bef2f",
   "metadata": {},
   "source": [
    "## Feature 2: First Tower %\n",
    "\n",
    "TBD"
   ]
  },
  {
   "cell_type": "code",
   "execution_count": 195,
   "id": "36493f3a",
   "metadata": {},
   "outputs": [
    {
     "name": "stdout",
     "output_type": "stream",
     "text": [
      "TBD\n"
     ]
    }
   ],
   "source": [
    "print(\"TBD\")"
   ]
  },
  {
   "cell_type": "markdown",
   "id": "b374a94d",
   "metadata": {},
   "source": [
    "## Feature 3: First Blood %\n",
    "\n",
    "TBD"
   ]
  },
  {
   "cell_type": "markdown",
   "id": "22943620",
   "metadata": {},
   "source": [
    "## Feature 4: First baron %\n",
    "\n",
    "TBD"
   ]
  },
  {
   "cell_type": "code",
   "execution_count": null,
   "id": "bc056f90",
   "metadata": {},
   "outputs": [],
   "source": []
  }
 ],
 "metadata": {
  "kernelspec": {
   "display_name": "Python 3 (ipykernel)",
   "language": "python",
   "name": "python3"
  },
  "language_info": {
   "codemirror_mode": {
    "name": "ipython",
    "version": 3
   },
   "file_extension": ".py",
   "mimetype": "text/x-python",
   "name": "python",
   "nbconvert_exporter": "python",
   "pygments_lexer": "ipython3",
   "version": "3.10.13"
  }
 },
 "nbformat": 4,
 "nbformat_minor": 5
}
