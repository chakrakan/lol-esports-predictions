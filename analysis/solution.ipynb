{
 "cells": [
  {
   "cell_type": "markdown",
   "id": "05635f0f",
   "metadata": {},
   "source": [
    "# Global Power Rankings Hackathon\n",
    "\n",
    "### Team Solo Dev - Kanisk Chakraborty (devkanisk)"
   ]
  },
  {
   "cell_type": "markdown",
   "id": "793cd44e",
   "metadata": {},
   "source": [
    "#### Problem Statement\n",
    "\n",
    "To develop a method that ranks the top global LoL Esports teams using official Riot Games data and AWS services."
   ]
  },
  {
   "cell_type": "markdown",
   "id": "a004faa5",
   "metadata": {},
   "source": [
    "#### Methodology\n",
    "\n",
    "A team consists of players so we must consider a wide range of factors contributing to the success of a team, and its global rank across the competition. \n",
    "\n",
    "We are provided with a lot of granular data that not just highlight team based information, but also go deeper on a per player event-structure. We can mainly split this into two groups — static and dynamic.\n",
    "\n",
    "Static data refers to fields where data relates towards a teams rank in an obvious manner, lacking the depth and nuance that is necessary for a game like League of Legends. For example, a game's outcome can be referred to as static, since we can traverse through a whole bunch of nested data, tally up the win-loss ratio and call it a day. "
   ]
  },
  {
   "cell_type": "markdown",
   "id": "29690203",
   "metadata": {},
   "source": [
    "#### Feature Gathering\n",
    "\n",
    "Describe features we want to use for our ML model"
   ]
  },
  {
   "cell_type": "code",
   "execution_count": 1,
   "id": "10955c76",
   "metadata": {},
   "outputs": [
    {
     "data": {
      "text/plain": [
       "array([[[[3, 5, 8, 2, 1],\n",
       "         [7, 9, 0, 3, 7],\n",
       "         [0, 7, 6, 0, 6],\n",
       "         [8, 5, 8, 0, 5]],\n",
       "\n",
       "        [[5, 4, 3, 6, 0],\n",
       "         [6, 0, 7, 3, 2],\n",
       "         [4, 4, 9, 7, 5],\n",
       "         [3, 3, 4, 4, 0]],\n",
       "\n",
       "        [[8, 7, 0, 0, 7],\n",
       "         [9, 8, 9, 9, 2],\n",
       "         [0, 4, 1, 5, 6],\n",
       "         [4, 1, 5, 5, 7]]],\n",
       "\n",
       "\n",
       "       [[[9, 4, 7, 6, 2],\n",
       "         [0, 3, 2, 3, 2],\n",
       "         [7, 6, 6, 9, 5],\n",
       "         [2, 5, 0, 4, 6]],\n",
       "\n",
       "        [[7, 5, 5, 6, 7],\n",
       "         [4, 7, 4, 6, 5],\n",
       "         [5, 6, 7, 2, 0],\n",
       "         [3, 0, 5, 6, 6]],\n",
       "\n",
       "        [[7, 1, 0, 5, 4],\n",
       "         [2, 4, 8, 5, 4],\n",
       "         [9, 9, 8, 9, 4],\n",
       "         [0, 8, 4, 4, 9]]]])"
      ]
     },
     "execution_count": 1,
     "metadata": {},
     "output_type": "execute_result"
    }
   ],
   "source": [
    "import numpy as np\n",
    "\n",
    "a4 = np.random.randint(10, size=(2, 3, 4, 5))\n",
    "a4"
   ]
  },
  {
   "cell_type": "code",
   "execution_count": 2,
   "id": "b952b6ba",
   "metadata": {},
   "outputs": [
    {
     "data": {
      "text/plain": [
       "array([[[[3, 5, 8, 2],\n",
       "         [7, 9, 0, 3],\n",
       "         [0, 7, 6, 0],\n",
       "         [8, 5, 8, 0]],\n",
       "\n",
       "        [[5, 4, 3, 6],\n",
       "         [6, 0, 7, 3],\n",
       "         [4, 4, 9, 7],\n",
       "         [3, 3, 4, 4]],\n",
       "\n",
       "        [[8, 7, 0, 0],\n",
       "         [9, 8, 9, 9],\n",
       "         [0, 4, 1, 5],\n",
       "         [4, 1, 5, 5]]],\n",
       "\n",
       "\n",
       "       [[[9, 4, 7, 6],\n",
       "         [0, 3, 2, 3],\n",
       "         [7, 6, 6, 9],\n",
       "         [2, 5, 0, 4]],\n",
       "\n",
       "        [[7, 5, 5, 6],\n",
       "         [4, 7, 4, 6],\n",
       "         [5, 6, 7, 2],\n",
       "         [3, 0, 5, 6]],\n",
       "\n",
       "        [[7, 1, 0, 5],\n",
       "         [2, 4, 8, 5],\n",
       "         [9, 9, 8, 9],\n",
       "         [0, 8, 4, 4]]]])"
      ]
     },
     "execution_count": 2,
     "metadata": {},
     "output_type": "execute_result"
    }
   ],
   "source": [
    "a4[:, :, :, :4]"
   ]
  },
  {
   "cell_type": "code",
   "execution_count": null,
   "id": "dbd688eb",
   "metadata": {},
   "outputs": [],
   "source": []
  }
 ],
 "metadata": {
  "kernelspec": {
   "display_name": "Python 3 (ipykernel)",
   "language": "python",
   "name": "python3"
  },
  "language_info": {
   "codemirror_mode": {
    "name": "ipython",
    "version": 3
   },
   "file_extension": ".py",
   "mimetype": "text/x-python",
   "name": "python",
   "nbconvert_exporter": "python",
   "pygments_lexer": "ipython3",
   "version": "3.10.13"
  }
 },
 "nbformat": 4,
 "nbformat_minor": 5
}
