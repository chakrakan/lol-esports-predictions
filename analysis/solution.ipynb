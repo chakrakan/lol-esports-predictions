{
 "cells": [
  {
   "cell_type": "markdown",
   "id": "05635f0f",
   "metadata": {},
   "source": [
    "# Global Power Rankings Hackathon\n",
    "\n",
    "### Team Solo Dev - Kanisk Chakraborty (devkanisk)"
   ]
  },
  {
   "cell_type": "markdown",
   "id": "793cd44e",
   "metadata": {},
   "source": [
    "#### Problem Statement\n",
    "\n",
    "To create 3 endpoints that are to do the following:\n",
    "\n",
    "**1. Tournament rankings - get team rankings for a given tournament**\n",
    "\n",
    "```\n",
    "GET /tournament_rankings/{tournament_id}\n",
    "\n",
    "Parameters\n",
    "\n",
    "tournament_id string (path) *required ID of tournament to return rankings for\n",
    "\n",
    "stage string (query) Stage of tournament to return rankings for\n",
    "\n",
    "Note: the rankings should be relevant for the time period of a tournament, i.e. if Worlds 2021 is queried here the rankings should be given for the teams at the time of the competition. So if your ranking has a weighted win/loss scoring from the past six months, you should use the six months prior to the start of Worlds 2021.\n",
    "```\n",
    "\n",
    "**2. Global Rankings**\n",
    "\n",
    "```\n",
    "Global rankings - get current top X teams globally\n",
    "\n",
    "GET /global_rankings\n",
    "\n",
    "Parameters\n",
    "\n",
    "number_of_teams integer (query) - number of teams to return a ranking for, the default is 20\n",
    "```\n",
    "\n",
    "**3. Team Rankings from given list of teams**\n",
    "\n",
    "```\n",
    "Team rankings - get rankings from a given list of teams\n",
    "\n",
    "GET /team_rankings/\n",
    "\n",
    "Parameters\n",
    "\n",
    "team_ids array[string] (query) *required IDs of tournaments to return ranking for\n",
    "```\n",
    "\n",
    "> NOTE: Team rankings and Global rankings query for the current state of affairs, but Tournament rankings should be weighted"
   ]
  },
  {
   "cell_type": "markdown",
   "id": "a004faa5",
   "metadata": {},
   "source": []
  }
 ],
 "metadata": {
  "kernelspec": {
   "display_name": "Python 3 (ipykernel)",
   "language": "python",
   "name": "python3"
  },
  "language_info": {
   "codemirror_mode": {
    "name": "ipython",
    "version": 3
   },
   "file_extension": ".py",
   "mimetype": "text/x-python",
   "name": "python",
   "nbconvert_exporter": "python",
   "pygments_lexer": "ipython3",
   "version": "3.10.13"
  }
 },
 "nbformat": 4,
 "nbformat_minor": 5
}
